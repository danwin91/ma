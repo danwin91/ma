{
 "cells": [
  {
   "cell_type": "code",
   "execution_count": 1,
   "metadata": {},
   "outputs": [
    {
     "name": "stdout",
     "output_type": "stream",
     "text": [
      "[myplots.py]: Saving plots to /home/pca/code/ma/plots\n"
     ]
    }
   ],
   "source": [
    "%matplotlib inline\n",
    "#Standard imports\n",
    "import numpy as np\n",
    "import matplotlib.pyplot as plt\n",
    "from scipy.stats import ortho_group\n",
    "\n",
    "\n",
    "#own modules\n",
    "from sigmoid import g,dg,ddg,dddg, plot_sigmoid\n",
    "import myplots\n",
    "from tensor_util import *\n",
    "from main_function import f, df, ddf, dddf\n",
    "\n",
    "g_name = \"sigmoid\""
   ]
  },
  {
   "cell_type": "code",
   "execution_count": 2,
   "metadata": {
    "collapsed": true
   },
   "outputs": [],
   "source": [
    "def uniformSphere(d, m_x):\n",
    "    x = np.random.normal(size=(m_x,d))\n",
    "    for i in range(m_x):\n",
    "        x[i] = x[i] / np.linalg.norm(x[i])\n",
    "    return x\n",
    "\n",
    "def perm_matrix(m):\n",
    "    P = np.identity(m)\n",
    "    P = np.random.permutation(P)#permutes only the rows\n",
    "    return P, np.linalg.inv(P)\n",
    "def decomp_svd_dd(X,A,B, symm = True, randomize=False):\n",
    "    \"\"\"tbd.\n",
    "\n",
    "    Parameters\n",
    "    ----------\n",
    "    X : matrix\n",
    "        m_x samples \\in R^m\n",
    "    A : matrix\n",
    "        m orthonormal vectors \\in R^m\n",
    "    B : matrix\n",
    "        m_1 orthonormal vectors \\in R^m\n",
    "    randomize: bool\n",
    "        if true performs a random unfolding\n",
    "    Returns\n",
    "    -------\n",
    "    alot\n",
    "\n",
    "    \"\"\"\n",
    "    d = A.shape[0]\n",
    "    ddf_values = ddf(X,A,B)\n",
    "    if symm:\n",
    "        unfolds = [vectorize_symm_tensor(dd) for dd in ddf_values]\n",
    "    else:\n",
    "        unfolds = [np.reshape(dd, (d**2,)) for dd in ddf_values]\n",
    "    \n",
    "    if randomize:\n",
    "        P,Q = perm_matrix(m**2)\n",
    "        unfolds = [np.dot(P,v) for v in unfolds]\n",
    "        \n",
    "    M = np.transpose(np.array(unfolds))\n",
    "    U,D,V = np.linalg.svd(M)\n",
    "    if randomize: \n",
    "        U = np.dot(Q,U)\n",
    "    return ddf_values, U, D\n",
    "        \n",
    "    \n",
    "def decomp_svd_ddd(X,A,B, symm = True, randomize=False):\n",
    "    \"\"\"tbd.\n",
    "\n",
    "    Parameters\n",
    "    ----------\n",
    "    X : matrix\n",
    "        m_x samples \\in R^m\n",
    "    A : matrix\n",
    "        m orthonormal vectors \\in R^m\n",
    "    B : matrix\n",
    "        m_1 orthonormal vectors \\in R^m\n",
    "    randomize: bool\n",
    "        if true performs a random unfolding\n",
    "    Returns\n",
    "    -------\n",
    "    alot\n",
    "\n",
    "    \"\"\"\n",
    "    d = A.shape[0]\n",
    "    dddf_values = dddf(X,A,B)\n",
    "    if symm:\n",
    "        unfolds = [vectorize_symm_tensor(ddd) for ddd in dddf_values]\n",
    "    else:\n",
    "        unfolds = [np.reshape(ddd, (d**3,)) for ddd in dddf_values]\n",
    "    \n",
    "    if randomize:\n",
    "        P,Q = perm_matrix(d**3)\n",
    "        unfolds = [np.dot(P,v) for v in unfolds]\n",
    "        \n",
    "    M = np.transpose(np.array(unfolds))\n",
    "    print(\"M.shape={}\".format(M.shape))\n",
    "    U,D,V = np.linalg.svd(M)\n",
    "    if randomize: \n",
    "        U = np.dot(Q,U)\n",
    "    return dddf_values, U, D"
   ]
  },
  {
   "cell_type": "code",
   "execution_count": 3,
   "metadata": {
    "collapsed": true
   },
   "outputs": [],
   "source": [
    "#Setting parameters, and creating data\n",
    "m = 20\n",
    "d = 50\n",
    "m_1 = 1\n",
    "m_x = 400\n",
    "X = uniformSphere(d, m_x)\n",
    "A = ortho_group.rvs(dim = d)[:m]# m orthogonal vectors with dim m, a_1, ..., a_m\n",
    "A = np.transpose(A)\n",
    "B = ortho_group.rvs(dim = m)[:m_1]#m_1 orthogonal vectors with dimension m b_1, ..., b_m_1\n",
    "B = np.transpose(B)"
   ]
  },
  {
   "cell_type": "code",
   "execution_count": 4,
   "metadata": {},
   "outputs": [
    {
     "name": "stdout",
     "output_type": "stream",
     "text": [
      "M.shape=(22100, 400)\n"
     ]
    }
   ],
   "source": [
    "dddf_values, U, D = decomp_svd_ddd(X,A,B, symm=True, randomize=False)"
   ]
  },
  {
   "cell_type": "code",
   "execution_count": 25,
   "metadata": {},
   "outputs": [
    {
     "data": {
      "text/plain": [
       "0.98168519029119961"
      ]
     },
     "execution_count": 25,
     "metadata": {},
     "output_type": "execute_result"
    }
   ],
   "source": [
    "np.sum(D[:m-1])/np.sum(D)"
   ]
  },
  {
   "cell_type": "code",
   "execution_count": 6,
   "metadata": {},
   "outputs": [
    {
     "data": {
      "text/plain": [
       "(400,)"
      ]
     },
     "execution_count": 6,
     "metadata": {},
     "output_type": "execute_result"
    }
   ],
   "source": [
    "D.shape#0.99844474164694064"
   ]
  },
  {
   "cell_type": "code",
   "execution_count": 7,
   "metadata": {},
   "outputs": [
    {
     "data": {
      "text/plain": [
       "(10,)"
      ]
     },
     "execution_count": 7,
     "metadata": {},
     "output_type": "execute_result"
    }
   ],
   "source": [
    "np.zeros(10).shape"
   ]
  },
  {
   "cell_type": "code",
   "execution_count": 8,
   "metadata": {},
   "outputs": [
    {
     "data": {
      "text/plain": [
       "20833.333333333332"
      ]
     },
     "execution_count": 8,
     "metadata": {},
     "output_type": "execute_result"
    }
   ],
   "source": [
    "50**3/6"
   ]
  },
  {
   "cell_type": "code",
   "execution_count": 9,
   "metadata": {},
   "outputs": [
    {
     "data": {
      "text/plain": [
       "(10, 20)"
      ]
     },
     "execution_count": 9,
     "metadata": {},
     "output_type": "execute_result"
    }
   ],
   "source": [
    "ortho_group.rvs(dim = m)[:10].shape"
   ]
  },
  {
   "cell_type": "code",
   "execution_count": 10,
   "metadata": {},
   "outputs": [
    {
     "data": {
      "text/plain": [
       "(20, 1)"
      ]
     },
     "execution_count": 10,
     "metadata": {},
     "output_type": "execute_result"
    }
   ],
   "source": [
    "B.shape"
   ]
  },
  {
   "cell_type": "code",
   "execution_count": 11,
   "metadata": {},
   "outputs": [
    {
     "data": {
      "text/plain": [
       "array([ 0.09860658])"
      ]
     },
     "execution_count": 11,
     "metadata": {},
     "output_type": "execute_result"
    }
   ],
   "source": [
    "B[0]"
   ]
  },
  {
   "cell_type": "code",
   "execution_count": 12,
   "metadata": {},
   "outputs": [
    {
     "data": {
      "text/plain": [
       "(50, 20)"
      ]
     },
     "execution_count": 12,
     "metadata": {},
     "output_type": "execute_result"
    }
   ],
   "source": [
    "A.shape"
   ]
  },
  {
   "cell_type": "code",
   "execution_count": 13,
   "metadata": {},
   "outputs": [
    {
     "data": {
      "text/plain": [
       "(20, 1)"
      ]
     },
     "execution_count": 13,
     "metadata": {},
     "output_type": "execute_result"
    }
   ],
   "source": [
    "B.shape"
   ]
  },
  {
   "cell_type": "code",
   "execution_count": 14,
   "metadata": {},
   "outputs": [
    {
     "data": {
      "text/plain": [
       "(50,)"
      ]
     },
     "execution_count": 14,
     "metadata": {},
     "output_type": "execute_result"
    }
   ],
   "source": [
    "A[:,1].shape"
   ]
  },
  {
   "cell_type": "code",
   "execution_count": 15,
   "metadata": {},
   "outputs": [
    {
     "data": {
      "text/plain": [
       "(50,)"
      ]
     },
     "execution_count": 15,
     "metadata": {},
     "output_type": "execute_result"
    }
   ],
   "source": [
    "X[0].shape"
   ]
  },
  {
   "cell_type": "code",
   "execution_count": null,
   "metadata": {
    "collapsed": true
   },
   "outputs": [],
   "source": []
  }
 ],
 "metadata": {
  "kernelspec": {
   "display_name": "Python 3",
   "language": "python",
   "name": "python3"
  },
  "language_info": {
   "codemirror_mode": {
    "name": "ipython",
    "version": 3
   },
   "file_extension": ".py",
   "mimetype": "text/x-python",
   "name": "python",
   "nbconvert_exporter": "python",
   "pygments_lexer": "ipython3",
   "version": "3.5.2"
  }
 },
 "nbformat": 4,
 "nbformat_minor": 2
}
