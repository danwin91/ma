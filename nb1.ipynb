{
 "cells": [
  {
   "cell_type": "code",
   "execution_count": 1,
   "metadata": {},
   "outputs": [],
   "source": [
    "%matplotlib inline\n",
    "import numpy as np\n",
    "import matplotlib.pyplot as plt\n",
    "from scipy.stats import ortho_group"
   ]
  },
  {
   "cell_type": "code",
   "execution_count": 2,
   "metadata": {},
   "outputs": [],
   "source": [
    "#Setting\n",
    "m = 20\n",
    "m_1 = 1"
   ]
  },
  {
   "cell_type": "code",
   "execution_count": 3,
   "metadata": {},
   "outputs": [],
   "source": [
    "def uniformSphere(d, m_x):\n",
    "    x = np.random.normal(size=(m_x,d))\n",
    "    for i in range(m_x):\n",
    "        x[i] = x[i] / np.linalg.norm(x[i])\n",
    "    return x\n",
    "def test(a,x,f):\n",
    "    return f(np.dot(a,x))\n",
    "\n",
    "def g(x):\n",
    "    return 1/(1+np.exp(-x))\n",
    "\n",
    "def dg(x):\n",
    "    #return sig(x)*(1-sig(x))\n",
    "    return np.exp(x)/(1+np.exp(x))**2\n",
    "\n",
    "def ddg(x):\n",
    "    return -np.exp(x)*(np.exp(x) - 1)/(1+np.exp(x))**3\n",
    "\n",
    "def dddg(x):\n",
    "    return np.exp(x)(1-4*np.exp(x)+np.exp(2*x))/(1+np.exp(x))**4\n",
    "\n",
    "def f_inner(x,a,foo):\n",
    "    v = [foo(np.dot(x,e)) for e in a]\n",
    "    return np.array(v)\n",
    "\n",
    "def f(x,a,b):\n",
    "    return g(np.dot(b[0],f_inner(x,a,g)))\n",
    "\n",
    "def df(X,a,b):\n",
    "    ret = []\n",
    "    for x in X: \n",
    "        right = np.dot(A, b[0]*f_inner(x,a,dg))\n",
    "        ret.append(dg(np.dot(b[:,0],f_inner(x,a,g)))*right)\n",
    "    return ret\n",
    "\n",
    "def ddf(X,a,b):\n",
    "    ret = []\n",
    "    samples = len(X)\n",
    "    step = 0\n",
    "    for x in X:\n",
    "        \n",
    "        if step % 1000 == 0:\n",
    "            print(\"ddf: {0}/{1}\".format(step, samples))\n",
    "        step = step +1\n",
    "        right = np.dot(A, b[0]*f_inner(x,a,dg))\n",
    "        right2 = np.tensordot(right,right,axes=0)\n",
    "        term1 = ddg(np.dot(b[:,0], f_inner(x,a,g)))*right2\n",
    "        term2 = dg(np.dot(b[:,0],f_inner(x,a,g)))\n",
    "        temp = np.zeros(shape = (m,m))\n",
    "        for i in range(m):\n",
    "            temp += b[i,0]*ddg(np.dot(a[:,i],x))*np.tensordot(a[:,i],a[:,i],axes=0)\n",
    "        r = term1 + term2*temp\n",
    "        ret.append(r)\n",
    "    return ret"
   ]
  },
  {
   "cell_type": "code",
   "execution_count": 4,
   "metadata": {},
   "outputs": [],
   "source": [
    "X = uniformSphere(m, 400)\n",
    "A = ortho_group.rvs(dim = m)# m orthogonal vectors with dim m, a_1, ..., a_m\n",
    "A = np.transpose(A)\n",
    "B = ortho_group.rvs(dim = m)[:m_1]#m_1 orthogonal vectors with dimension m b_1, ..., b_m_1\n",
    "B = np.transpose(B)"
   ]
  },
  {
   "cell_type": "code",
   "execution_count": 5,
   "metadata": {},
   "outputs": [
    {
     "data": {
      "text/plain": [
       "-0.12520237102649556"
      ]
     },
     "execution_count": 5,
     "metadata": {},
     "output_type": "execute_result"
    }
   ],
   "source": [
    "np.dot(A[:,0],X[0])"
   ]
  },
  {
   "cell_type": "code",
   "execution_count": 6,
   "metadata": {},
   "outputs": [
    {
     "name": "stdout",
     "output_type": "stream",
     "text": [
      "ddf: 0/400\n"
     ]
    }
   ],
   "source": [
    "hmm = ddf(X, A,B)"
   ]
  },
  {
   "cell_type": "code",
   "execution_count": 7,
   "metadata": {},
   "outputs": [],
   "source": [
    "mak = [np.reshape(dd, (m**2,)) for dd in hmm]"
   ]
  },
  {
   "cell_type": "code",
   "execution_count": 8,
   "metadata": {},
   "outputs": [
    {
     "data": {
      "text/plain": [
       "(400, 400)"
      ]
     },
     "execution_count": 8,
     "metadata": {},
     "output_type": "execute_result"
    }
   ],
   "source": [
    "M = np.transpose(np.array(mak))\n",
    "M.shape"
   ]
  },
  {
   "cell_type": "code",
   "execution_count": 9,
   "metadata": {},
   "outputs": [],
   "source": [
    "U,D,V = np.linalg.svd(M)"
   ]
  },
  {
   "cell_type": "code",
   "execution_count": 10,
   "metadata": {},
   "outputs": [
    {
     "data": {
      "text/plain": [
       "(400, 400)"
      ]
     },
     "execution_count": 10,
     "metadata": {},
     "output_type": "execute_result"
    }
   ],
   "source": [
    "V.shape"
   ]
  },
  {
   "cell_type": "code",
   "execution_count": 11,
   "metadata": {},
   "outputs": [
    {
     "data": {
      "text/plain": [
       "[<matplotlib.lines.Line2D at 0x7f656a2d7e80>]"
      ]
     },
     "execution_count": 11,
     "metadata": {},
     "output_type": "execute_result"
    },
    {
     "data": {
      "image/png": "[encoded data removed]",
      "text/plain": [
       "<matplotlib.figure.Figure at 0x7f656c35c710>"
      ]
     },
     "metadata": {},
     "output_type": "display_data"
    }
   ],
   "source": [
    "plt.plot(list(range(m**2)), D)"
   ]
  },
  {
   "cell_type": "code",
   "execution_count": 12,
   "metadata": {},
   "outputs": [],
   "source": [
    "U_trunc = U[:,:2*m]\n",
    "U_unvec = []\n",
    "for i in range(2*m):\n",
    "    U_unvec.append(np.reshape(U_trunc[:,i] , (m,m)))"
   ]
  },
  {
   "cell_type": "code",
   "execution_count": 13,
   "metadata": {},
   "outputs": [
    {
     "name": "stdout",
     "output_type": "stream",
     "text": [
      "[1.4020666654997143, 1.3928406188122853, 1.4005269561097413, 1.4010846745709571, 1.3990309132663354, 1.3593342296567248, 1.3779468699344715, 1.376676754174939, 1.004330449389482, 1.158798704903881, 0.93446508252257177, 1.1070660155173404, 1.1154432474246023, 1.3243206503218052, 1.386291419370818, 1.3653694299263737, 1.3899886209959103, 1.402116157116619, 1.413110490472739, 1.4141878495997071, 1.411191171626542] \n",
      "\n",
      "[1.4141440671400709, 1.4102520115920352, 1.4026662788859223, 1.4140142356758205, 1.404118827641663, 1.4116598673731975, 1.3947419086925033, 1.4053453021578182, 1.3501456520146438, 1.3886897144169463, 1.401802613952263, 1.3862845248257318, 1.4124583557973551, 1.3648695768862067, 1.4001227497630313, 1.4052126110962568, 1.4046256522376683, 0.46514969352707736, 1.0667914713910611, 1.3906341289147517, 1.4135241585856197] \n",
      "\n",
      "[1.4057968384221908, 1.4119139116709982, 1.397059859206758, 1.4128249259712744, 1.4048960888090078, 1.4005115338372656, 1.3462294715660572, 1.3771423295565335, 1.3062592860670803, 1.3793664227302411, 1.3974346408140648, 1.2782835993366806, 1.2541002932602885, 1.2237426253924848, 0.44413146206382376, 1.3953049316634316, 1.3665518373181302, 1.3753779425046198, 1.4124411716005689, 1.4138852767926937, 1.4139021865786408] \n",
      "\n",
      "[1.4125612707341699, 1.4054683885625687, 1.3966593894601951, 1.3931309074479186, 1.3957190189132849, 1.3717498831308508, 1.3747186018808313, 1.3674052549362388, 1.316193981121039, 1.4050030400661557, 1.3861253838787355, 1.3709482066593837, 1.3476377513582249, 1.0732608977347067, 1.3479929796227741, 0.93021430789325976, 0.81749915775263715, 1.4027927743399899, 1.3866570118663564, 1.410368385344386, 1.4135051037496] \n",
      "\n",
      "[1.4116453447555395, 1.3899984303465318, 1.3883459154704869, 1.3926056525570698, 1.3348412233252536, 1.3379100115395497, 0.84469469148888354, 0.77825616343712312, 1.3597970524911283, 1.3319172341876122, 1.2800546373161814, 1.4038386838702968, 1.3686268305963487, 1.3718258750576049, 1.4111282818484825, 1.374077255348984, 1.3381446835794064, 1.4055723646078104, 1.3944972295722842, 1.4136484584326117, 1.4137120033336887] \n",
      "\n",
      "[1.4130838923517592, 1.4124930863785634, 1.3964447242245692, 1.4111850702330526, 1.3890350142769892, 1.3964869166503038, 1.3611333404572614, 1.3963471315198386, 1.2449647879734711, 1.412656325123391, 1.3421883293018591, 1.2565999341673422, 1.3932777650066615, 0.63590996895260188, 1.2493343730929964, 1.1243030478087919, 1.2246516217513159, 1.3951388065314376, 1.3799587224144323, 1.407881790325733, 1.4141893565493469] \n",
      "\n",
      "[1.4116214883792069, 1.4132570123676274, 1.4134531297143547, 1.4107030068396273, 1.3762909181470773, 1.4134693136550238, 1.3907245380435216, 1.3896050909634421, 1.3749077254580109, 1.3262300258526896, 1.3452984361906728, 1.3809531506230901, 1.4120829898994682, 1.3321303636143289, 1.37065925221566, 0.77422979874086051, 0.80298529413878861, 1.4079692299545259, 1.4064357103184222, 1.4136155546628599, 1.4135894409113916] \n",
      "\n",
      "[1.4133832813677385, 1.4142005470112069, 1.4135620688213275, 1.4133816453723309, 1.4133724239624417, 1.4142039004146727, 1.4097211776466505, 1.4094962675278919, 1.3906478299694545, 1.4109623856206144, 1.4109590474297695, 1.4013122438972749, 1.3981827994418852, 1.4100171440390588, 1.4039805387977646, 1.4099323448602727, 1.41215591872047, 1.4141961119937259, 1.4099820340952196, 1.4032824191967244, 0.054797394520874246] \n",
      "\n",
      "[1.4079731370879833, 1.3874151036240721, 1.40726455284756, 1.4030722698633347, 1.3842128611410116, 1.4048978641311602, 1.400123012838288, 1.3449962251253005, 1.3543288256480999, 1.3352382359706514, 1.3934279993603618, 0.7458265123911908, 0.84245016086002211, 1.3184478339732064, 1.3918264789979189, 1.3401465841883229, 1.4129191085477251, 1.389325234286747, 1.4049804529917298, 1.4124244176627867, 1.4133991949334856] \n",
      "\n",
      "[1.3869574369397586, 0.32747213020890276, 1.211424586894132, 1.3052067515221242, 1.3887214931528746, 1.4003507082269813, 1.3718205994874095, 1.4137270427057067, 1.3712906440249246, 1.4131358783150114, 1.4101311131691232, 1.397127962882899, 1.3977184192085685, 1.4068036530997188, 1.4130242461777087, 1.41386910934444, 1.4121008025111943, 1.4097416276938557, 1.4106937671847524, 1.4127243976716843, 1.4131885786929854] \n",
      "\n",
      "[1.3856230415306372, 1.3048153678772232, 1.3746040029228244, 0.2121834805327886, 1.3588495331036861, 1.3866547725400957, 1.3662622564114739, 1.4124580955355375, 1.398234213979497, 1.3831694808687347, 1.3855617857958042, 1.4099933544951244, 1.3998354318024484, 1.4063995757076053, 1.4040722108621986, 1.3995228308559533, 1.3956639613887312, 1.4127290089665168, 1.4106621683286606, 1.41279436636977, 1.4138381222238883] \n",
      "\n",
      "[1.3971124963897292, 1.4061002547839279, 1.4056072224572451, 1.4038371722216376, 1.2868333640301637, 0.36289427050264167, 1.3388947979028771, 1.3017655521532516, 1.3727006793461312, 1.3065618885203645, 1.2821811611061051, 1.402576274365126, 1.4120094528152944, 1.4087063412693146, 1.3874413549781581, 1.3703980939047646, 1.4059980187646017, 1.4089483771062403, 1.398684248503812, 1.4137752370209467, 1.4118677153866996] \n",
      "\n",
      "[1.4115291368581531, 1.4114112845564251, 1.4046977296770307, 1.4113013045388818, 1.4039177919469528, 1.4036926329699668, 1.4006257052176476, 1.4125490350569017, 1.4107317733230043, 1.4119079935641101, 1.4067725680909138, 1.4102800745292845, 1.3869445633859216, 1.4119936784860543, 1.390731666876589, 1.3831124216564596, 1.3936891705537251, 1.0631025441765427, 0.45418986226027391, 1.413912252650197, 1.4113154751359711] \n",
      "\n",
      "[1.3926044308885204, 1.2063659033216916, 0.29086242930026018, 1.4054679017980123, 1.4024600608727447, 1.4107359936971522, 1.4099959069025816, 1.3836890794877803, 1.3956260696366758, 1.4083311422806439, 1.3830187348168395, 1.3897010413892845, 1.4108502524661481, 1.4091122172429766, 1.3950782019905568, 1.4064277017171858, 1.4051494100632045, 1.3985338504362193, 1.4119673431063586, 1.413668737586216, 1.4139789670200813] \n",
      "\n",
      "[1.404354722623379, 1.4095057540796174, 1.3861973815824331, 1.3830592323529827, 1.3714505639827561, 1.3296473662031492, 1.3952095981898047, 1.1885544287164023, 1.2542987960929377, 1.3156559318836201, 0.72465787277357196, 1.1337294661659403, 1.1684223717398856, 1.2599000056743914, 1.3793944857719116, 1.4139549422335658, 1.3412043522619734, 1.3870586834926273, 1.4140303562052599, 1.4133212940700444, 1.4128981368162365] \n",
      "\n",
      "[1.3857648878539279, 1.4128172159496577, 1.4059007091876949, 1.3846295327205334, 1.4121288301270096, 1.3051710020051703, 1.3943201709270205, 1.3396807641549402, 1.302948413752457, 0.46713698640020984, 1.3914409390569942, 1.3173611022892662, 1.172675374623191, 1.3759226827046407, 1.3464282503063196, 1.3325446293802199, 1.3684992777940521, 1.3801326523680297, 1.4101680730970954, 1.4090537654754414, 1.4125153736838452] \n",
      "\n",
      "[0.085426063508772923, 1.3984113854682019, 1.3877508104467711, 1.3837994175845267, 1.4046599568241243, 1.3989187291401548, 1.4003818971569104, 1.3994420801273131, 1.4078785220779479, 1.3836804128750901, 1.4105454111352209, 1.4112404160877212, 1.4116847977613218, 1.4093344255545868, 1.4077572451423632, 1.4127383289436513, 1.4113076840653795, 1.4128492873708305, 1.4109536604975035, 1.4117981587985928, 1.4136582923365488] \n",
      "\n",
      "[1.4020019359752962, 1.3877909451630499, 1.3885853396609036, 1.3564044081503481, 1.407585447536559, 1.255575075406838, 0.73108156179521344, 0.90326654639719539, 1.3386060429775752, 1.4026441666243843, 1.2923722087757521, 1.3794077771792312, 1.3905553930058878, 1.391242105737065, 1.3252866659723794, 1.4124588419983914, 1.4048581490453709, 1.4049254791842389, 1.4036065000859803, 1.4106107917412871, 1.4121945551249693] \n",
      "\n",
      "[1.4099306262520519, 1.3883623547093338, 1.4012673021696118, 1.3527640463569419, 0.24755168917163392, 1.3121822777449665, 1.3869896172304084, 1.3451526381486805, 1.4142091772568504, 1.3893914766644861, 1.3315012224321177, 1.3923052556604343, 1.409085158120345, 1.370625630137573, 1.4061513835718558, 1.3900764331886706, 1.3903520284411208, 1.4112630753492228, 1.4011748637671309, 1.4110459800742723, 1.4135108096583899] \n",
      "\n",
      "[1.411628151324698, 1.4135143163424533, 1.413475217297532, 1.4124732853290047, 1.410688861616596, 1.4089475939886247, 1.4082715928523621, 1.4090231308767971, 1.381303883458729, 1.4061911521508379, 1.4109095709130322, 1.4022273943848491, 1.3975276764865283, 1.4115564750357583, 1.4026109876709956, 1.4096589740994216, 1.4127245769030197, 1.3903745807273948, 1.4013129362766261, 0.072946811232108263, 1.4053281115936866] \n",
      "\n"
     ]
    }
   ],
   "source": [
    "for i in range(m):\n",
    "    dist =[]\n",
    "    for j in range(m+m_1):\n",
    "        t = np.tensordot(A[:,i], A[:,i], axes=0) - U_unvec[j]\n",
    "        t2 = -np.tensordot(A[:,i], A[:,i], axes=0) - U_unvec[j]\n",
    "        d2 = np.linalg.norm(t2)\n",
    "        d = np.linalg.norm(t)\n",
    "        \n",
    "        dist.append(np.min([d,d2]))\n",
    "    print(dist, \"\\n\")"
   ]
  },
  {
   "cell_type": "code",
   "execution_count": 14,
   "metadata": {},
   "outputs": [
    {
     "ename": "AxisError",
     "evalue": "axis 1 is out of bounds for array of dimension 0",
     "output_type": "error",
     "traceback": [
      "\u001b[0;31m---------------------------------------------------------------------------\u001b[0m",
      "\u001b[0;31mAxisError\u001b[0m                                 Traceback (most recent call last)",
      "\u001b[0;32m<ipython-input-14-789a25128257>\u001b[0m in \u001b[0;36m<module>\u001b[0;34m()\u001b[0m\n\u001b[0;32m----> 1\u001b[0;31m \u001b[0mnp\u001b[0m\u001b[0;34m.\u001b[0m\u001b[0mmin\u001b[0m\u001b[0;34m(\u001b[0m\u001b[0;36m2\u001b[0m\u001b[0;34m,\u001b[0m\u001b[0;36m1\u001b[0m\u001b[0;34m)\u001b[0m\u001b[0;34m\u001b[0m\u001b[0m\n\u001b[0m",
      "\u001b[0;32m~/env/lib/python3.5/site-packages/numpy/core/fromnumeric.py\u001b[0m in \u001b[0;36mamin\u001b[0;34m(a, axis, out, keepdims)\u001b[0m\n\u001b[1;32m   2370\u001b[0m \u001b[0;34m\u001b[0m\u001b[0m\n\u001b[1;32m   2371\u001b[0m     return _methods._amin(a, axis=axis,\n\u001b[0;32m-> 2372\u001b[0;31m                           out=out, **kwargs)\n\u001b[0m\u001b[1;32m   2373\u001b[0m \u001b[0;34m\u001b[0m\u001b[0m\n\u001b[1;32m   2374\u001b[0m \u001b[0;34m\u001b[0m\u001b[0m\n",
      "\u001b[0;32m~/env/lib/python3.5/site-packages/numpy/core/_methods.py\u001b[0m in \u001b[0;36m_amin\u001b[0;34m(a, axis, out, keepdims)\u001b[0m\n\u001b[1;32m     27\u001b[0m \u001b[0;34m\u001b[0m\u001b[0m\n\u001b[1;32m     28\u001b[0m \u001b[0;32mdef\u001b[0m \u001b[0m_amin\u001b[0m\u001b[0;34m(\u001b[0m\u001b[0ma\u001b[0m\u001b[0;34m,\u001b[0m \u001b[0maxis\u001b[0m\u001b[0;34m=\u001b[0m\u001b[0;32mNone\u001b[0m\u001b[0;34m,\u001b[0m \u001b[0mout\u001b[0m\u001b[0;34m=\u001b[0m\u001b[0;32mNone\u001b[0m\u001b[0;34m,\u001b[0m \u001b[0mkeepdims\u001b[0m\u001b[0;34m=\u001b[0m\u001b[0;32mFalse\u001b[0m\u001b[0;34m)\u001b[0m\u001b[0;34m:\u001b[0m\u001b[0;34m\u001b[0m\u001b[0m\n\u001b[0;32m---> 29\u001b[0;31m     \u001b[0;32mreturn\u001b[0m \u001b[0mumr_minimum\u001b[0m\u001b[0;34m(\u001b[0m\u001b[0ma\u001b[0m\u001b[0;34m,\u001b[0m \u001b[0maxis\u001b[0m\u001b[0;34m,\u001b[0m \u001b[0;32mNone\u001b[0m\u001b[0;34m,\u001b[0m \u001b[0mout\u001b[0m\u001b[0;34m,\u001b[0m \u001b[0mkeepdims\u001b[0m\u001b[0;34m)\u001b[0m\u001b[0;34m\u001b[0m\u001b[0m\n\u001b[0m\u001b[1;32m     30\u001b[0m \u001b[0;34m\u001b[0m\u001b[0m\n\u001b[1;32m     31\u001b[0m \u001b[0;32mdef\u001b[0m \u001b[0m_sum\u001b[0m\u001b[0;34m(\u001b[0m\u001b[0ma\u001b[0m\u001b[0;34m,\u001b[0m \u001b[0maxis\u001b[0m\u001b[0;34m=\u001b[0m\u001b[0;32mNone\u001b[0m\u001b[0;34m,\u001b[0m \u001b[0mdtype\u001b[0m\u001b[0;34m=\u001b[0m\u001b[0;32mNone\u001b[0m\u001b[0;34m,\u001b[0m \u001b[0mout\u001b[0m\u001b[0;34m=\u001b[0m\u001b[0;32mNone\u001b[0m\u001b[0;34m,\u001b[0m \u001b[0mkeepdims\u001b[0m\u001b[0;34m=\u001b[0m\u001b[0;32mFalse\u001b[0m\u001b[0;34m)\u001b[0m\u001b[0;34m:\u001b[0m\u001b[0;34m\u001b[0m\u001b[0m\n",
      "\u001b[0;31mAxisError\u001b[0m: axis 1 is out of bounds for array of dimension 0"
     ]
    }
   ],
   "source": [
    "np.min(2,1)"
   ]
  },
  {
   "cell_type": "code",
   "execution_count": null,
   "metadata": {},
   "outputs": [],
   "source": [
    "U_unvec[0].shape"
   ]
  },
  {
   "cell_type": "code",
   "execution_count": null,
   "metadata": {},
   "outputs": [],
   "source": []
  }
 ],
 "metadata": {
  "kernelspec": {
   "display_name": "Python 3",
   "language": "python",
   "name": "python3"
  },
  "language_info": {
   "codemirror_mode": {
    "name": "ipython",
    "version": 3
   },
   "file_extension": ".py",
   "mimetype": "text/x-python",
   "name": "python",
   "nbconvert_exporter": "python",
   "pygments_lexer": "ipython3",
   "version": "3.5.2"
  }
 },
 "nbformat": 4,
 "nbformat_minor": 2
}
