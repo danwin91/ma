{
 "cells": [
  {
   "cell_type": "code",
   "execution_count": 3,
   "metadata": {
    "collapsed": true
   },
   "outputs": [],
   "source": [
    "%matplotlib inline\n",
    "import numpy as np\n",
    "import matplotlib.pyplot as plt\n",
    "\n",
    "from scipy.stats import ortho_group"
   ]
  },
  {
   "cell_type": "code",
   "execution_count": 22,
   "metadata": {},
   "outputs": [],
   "source": [
    "def tensor2(a,b):\n",
    "    return np.tensordot(a,b, axes=0)\n",
    "\n",
    "def tensor3(a, b, c):\n",
    "    return np.tensordot(np.tensordot(a,b,axes=0), c, axes=0)\n",
    "\n",
    "def uniformSphere(d, m_x):\n",
    "    x = np.random.normal(size=(m_x,d))\n",
    "    for i in range(m_x):\n",
    "        x[i] = x[i] / np.linalg.norm(x[i])\n",
    "    return x\n",
    "def test(a,x,f):\n",
    "    return f(np.dot(a,x))\n",
    "\n",
    "def g(x):\n",
    "    return 1/(1+np.exp(-x))\n",
    "\n",
    "def dg(x):\n",
    "    #return sig(x)*(1-sig(x))\n",
    "    return np.exp(x)/(1+np.exp(x))**2\n",
    "\n",
    "def ddg(x):\n",
    "    return -np.exp(x)*(np.exp(x) - 1)/(1+np.exp(x))**3\n",
    "\n",
    "def dddg(x):\n",
    "    return np.exp(x)*(1-4*np.exp(x)+np.exp(2*x))/(1+np.exp(x))**4\n",
    "\n",
    "def f_inner(x,a,foo):\n",
    "    v = [foo(np.dot(x,a[:, i])) for i in range(m)]\n",
    "    return np.array(v)\n",
    "\n",
    "def f(x,a,b):\n",
    "    return g(np.dot(b[0],f_inner(x,a,g)))\n",
    "\n",
    "def df(X,a,b):\n",
    "    ret = []\n",
    "    for x in X: \n",
    "        right = np.dot(A, b[0]*f_inner(x,a,dg))\n",
    "        ret.append(dg(np.dot(b[:,0],f_inner(x,a,g)))*right)\n",
    "    return ret\n",
    "\n",
    "def ddf(X,a,b):\n",
    "    ret = []\n",
    "    samples = len(X)\n",
    "    step = 0\n",
    "    for x in X:\n",
    "        \n",
    "        if step % 1000 == 0:\n",
    "            print(\"ddf: {0}/{1}\".format(step, samples))\n",
    "        step = step +1\n",
    "        right = np.dot(a, b[:,0]*f_inner(x,a,dg))\n",
    "        right2 = np.tensordot(right,right,axes=0)\n",
    "        term1 = ddg(np.dot(b[:,0], f_inner(x,a,g)))*right2\n",
    "        term2 = dg(np.dot(b[:,0],f_inner(x,a,g)))\n",
    "        temp = np.zeros(shape = (m,m))\n",
    "        for i in range(m):\n",
    "            temp += b[i,0]*ddg(np.dot(a[:,i],x))*np.tensordot(a[:,i],a[:,i],axes=0)\n",
    "        r = term1 + term2*temp\n",
    "        ret.append(r)\n",
    "    return ret\n",
    "\n",
    "def dddf_single(x, A,B):\n",
    "    #consists of 4m+m_1 terms seperated into 3 terms pure, semi, mixed\n",
    "    pure = 0\n",
    "    for i in range(m):\n",
    "        pure += B[i, 0]*dddg(np.dot(A[:,i],x))*tensor3(A[:,i],A[:,i],A[:,i])\n",
    "    H_pure = dg(np.dot(B[:,0], f_inner(x, A, g)))\n",
    "    pure *= H_pure\n",
    "    \n",
    "    v = np.dot(A, f_inner(x, A, dg)*B[:,0])\n",
    "    \n",
    "    #mixed\n",
    "    mixed = tensor3(v,v,v)\n",
    "    H_mixed = dddg(np.dot(B[:,0], f_inner(x,A,g)))\n",
    "    mixed *= H_mixed\n",
    "    \n",
    "    #semi\n",
    "    semi = 0\n",
    "    for i in range(m):\n",
    "        semi += B[i,0]*ddg(np.dot(A[:,i],x))*(tensor3(v,A[:,i], A[:, i])+tensor3(A[:,i],v, A[:, i])+tensor3(A[:,i], A[:, i],v))\n",
    "    H_semi = ddg(np.dot(B[:, 0], f_inner(x,A,g)))\n",
    "    semi*=H_semi\n",
    "    res = pure + mixed + semi\n",
    "    return res\n",
    "\n",
    "def dddf(X,A,B):\n",
    "    ret = []\n",
    "    samples = len(X)\n",
    "    step = 0\n",
    "    for x in X:\n",
    "        if step % 1000 == 0:\n",
    "            print(\"dddf: {}/{}\".format(step, samples))\n",
    "        step = step + 1\n",
    "        r = dddf_single(x,A,B)\n",
    "        ret.append(r)\n",
    "    return ret\n",
    "        "
   ]
  },
  {
   "cell_type": "code",
   "execution_count": 79,
   "metadata": {},
   "outputs": [
    {
     "name": "stdout",
     "output_type": "stream",
     "text": [
      "ddf: 0/10000\n",
      "ddf: 1000/10000\n",
      "ddf: 2000/10000\n",
      "ddf: 3000/10000\n",
      "ddf: 4000/10000\n",
      "ddf: 5000/10000\n",
      "ddf: 6000/10000\n",
      "ddf: 7000/10000\n",
      "ddf: 8000/10000\n",
      "ddf: 9000/10000\n"
     ]
    },
    {
     "data": {
      "text/plain": [
       "[<matplotlib.lines.Line2D at 0x7f4dab4f4588>]"
      ]
     },
     "execution_count": 79,
     "metadata": {},
     "output_type": "execute_result"
    },
    {
     "data": {
      "image/png": "[encoded data removed]",
      "text/plain": [
       "<matplotlib.figure.Figure at 0x7f4dab703c88>"
      ]
     },
     "metadata": {},
     "output_type": "display_data"
    }
   ],
   "source": [
    "#Setting\n",
    "m = 10\n",
    "m_1 = 1\n",
    "X = uniformSphere(m, 10000)\n",
    "A = ortho_group.rvs(dim = m)# m orthogonal vectors with dim m, a_1, ..., a_m\n",
    "A = np.transpose(A)\n",
    "B = ortho_group.rvs(dim = m)[:m_1]#m_1 orthogonal vectors with dimension m b_1, ..., b_m_1\n",
    "B = np.transpose(B)\n",
    "hmm = ddf(X, A,B)\n",
    "mak = [np.reshape(dd, (m**2,)) for dd in hmm]\n",
    "M = np.transpose(np.array(mak))\n",
    "M.shape\n",
    "U,D,V = np.linalg.svd(M)\n",
    "plt.plot(list(range(m**2)), D)"
   ]
  },
  {
   "cell_type": "code",
   "execution_count": 80,
   "metadata": {},
   "outputs": [
    {
     "name": "stdout",
     "output_type": "stream",
     "text": [
      "[0.88886123546288709, 0.79069101170942846, 1.1254639994202948, 1.3000155480017601, 1.4007263526888842, 1.3797240030594984, 1.4017680110600885, 1.4096371509220678, 1.413035033549044, 1.4141223613031835, 1.4140734103121488] \n",
      "\n",
      "[1.3952513835986839, 1.4106738843599651, 1.3989139413088165, 1.3955921539773262, 1.4026061771627729, 1.4067355809048407, 1.4002901275185966, 0.052099313340464644, 1.4104919912280756, 1.41026107654653, 1.4121347838079916] \n",
      "\n",
      "[1.3743297733778455, 1.4108310172557119, 1.3638498589379191, 1.3574210962119133, 1.3617396092370164, 1.2889555397608372, 0.22119876356090787, 1.406352094876584, 1.4106465925517988, 1.4117684723161268, 1.4138526433080323] \n",
      "\n",
      "[1.3570318060578612, 1.4018898830339925, 1.3171322916907273, 1.2852875336340954, 0.53362377999683042, 1.0544667464249082, 1.3320555459588801, 1.406060571546822, 1.4141877764703477, 1.4139110089148825, 1.4128023568398478] \n",
      "\n",
      "[1.3669246621816327, 1.4043936657547187, 1.3336654039360054, 1.3088156522085426, 1.0010884969492642, 0.56483807144261944, 1.3525078586855135, 1.4103722205109754, 1.41185731573837, 1.413936041023413, 1.4140415515001223] \n",
      "\n",
      "[1.4068633906809955, 1.4136553172967266, 1.4038918822445765, 1.4059832253404994, 1.4117917973541436, 1.4127973359495338, 1.408380836673188, 1.4097263616667974, 0.026081393861126106, 1.4071373718122373, 1.4137097054541277] \n",
      "\n",
      "[1.2942958779868583, 1.3981634548969253, 0.92333955568489812, 0.63329440748390908, 1.3972784515741707, 1.3715662002780515, 1.3956966383230047, 1.4100364751266476, 1.4139806553119612, 1.4132304320828513, 1.4141566106061929] \n",
      "\n",
      "[0.98672712568567889, 0.74517745440630734, 1.0717015465944069, 1.2832359175750803, 1.4032158112601256, 1.3846623654430603, 1.3998222183694968, 1.4108193353865981, 1.4123013090854815, 1.4129742930993359, 1.4140560108804501] \n",
      "\n",
      "[1.4137675684260982, 1.4139506889238016, 1.413874852267792, 1.4139385314709649, 1.4129961776896802, 1.413137836547365, 1.4141799624524618, 1.4120605828112562, 1.4137109291153136, 1.4107388440039599, 0.0078181808956717686] \n",
      "\n",
      "[1.4133248545177803, 1.4134694482214203, 1.4118238242433061, 1.4136718688170389, 1.414097840218693, 1.4140016478699298, 1.4115000497991379, 1.4100870019691361, 1.4072311041243095, 0.013853458356389741, 1.4107286985661436] \n",
      "\n"
     ]
    }
   ],
   "source": [
    "U_trunc = U[:,:2*m]\n",
    "U_unvec = []\n",
    "for i in range(2*m):\n",
    "    U_unvec.append(np.reshape(U_trunc[:,i] , (m,m)))\n",
    "    \n",
    "    \n",
    "for i in range(m):\n",
    "    dist =[]\n",
    "    for j in range(m+m_1):\n",
    "        t = np.tensordot(A[:,i], A[:,i], axes=0) - U_unvec[j]\n",
    "        t2 = -np.tensordot(A[:,i], A[:,i], axes=0) - U_unvec[j]\n",
    "        d2 = np.linalg.norm(t2)\n",
    "        d = np.linalg.norm(t)\n",
    "        \n",
    "        dist.append(np.min([d,d2]))\n",
    "    print(dist, \"\\n\")"
   ]
  },
  {
   "cell_type": "code",
   "execution_count": 81,
   "metadata": {},
   "outputs": [
    {
     "name": "stdout",
     "output_type": "stream",
     "text": [
      "dddf: 0/10000\n",
      "dddf: 1000/10000\n",
      "dddf: 2000/10000\n",
      "dddf: 3000/10000\n",
      "dddf: 4000/10000\n",
      "dddf: 5000/10000\n",
      "dddf: 6000/10000\n",
      "dddf: 7000/10000\n",
      "dddf: 8000/10000\n",
      "dddf: 9000/10000\n"
     ]
    },
    {
     "data": {
      "text/plain": [
       "[<matplotlib.lines.Line2D at 0x7f4dab530ef0>]"
      ]
     },
     "execution_count": 81,
     "metadata": {},
     "output_type": "execute_result"
    },
    {
     "data": {
      "image/png": "[encoded data removed]",
      "text/plain": [
       "<matplotlib.figure.Figure at 0x7f4dab87f748>"
      ]
     },
     "metadata": {},
     "output_type": "display_data"
    }
   ],
   "source": [
    "hum  = dddf(X,A,B)\n",
    "mak = [np.reshape(dd, (m**3,)) for dd in hum]\n",
    "M = np.transpose(np.array(mak))\n",
    "M.shape\n",
    "U,D,V = np.linalg.svd(M)\n",
    "plt.plot(list(range(m**3)), D)"
   ]
  },
  {
   "cell_type": "code",
   "execution_count": 82,
   "metadata": {},
   "outputs": [
    {
     "data": {
      "text/plain": [
       "(100, 20)"
      ]
     },
     "execution_count": 82,
     "metadata": {},
     "output_type": "execute_result"
    }
   ],
   "source": [
    "U_trunc.shape"
   ]
  },
  {
   "cell_type": "code",
   "execution_count": 83,
   "metadata": {},
   "outputs": [
    {
     "name": "stdout",
     "output_type": "stream",
     "text": [
      "0.75275048963 \n",
      "\n",
      "0.48175305012 \n",
      "\n",
      "0.466024583272 \n",
      "\n",
      "0.792799157988 \n",
      "\n",
      "0.746977077391 \n",
      "\n",
      "0.482245695089 \n",
      "\n",
      "0.761154865921 \n",
      "\n",
      "0.792388124698 \n",
      "\n",
      "0.0664629336958 \n",
      "\n",
      "0.215602629925 \n",
      "\n"
     ]
    }
   ],
   "source": [
    "U_trunc = U\n",
    "#U_trunc = U[:,:2*m]\n",
    "U_unvec = []\n",
    "\"\"\"for i in range(2*m):\n",
    "    U_unvec.append(np.reshape(U_trunc[:,i] , (m,m)))\n",
    "\"\"\"\n",
    "    \n",
    "for i in range(m):\n",
    "    dist =[]\n",
    "    for j in range(U_trunc.shape[1]):\n",
    "        a = tensor3(A[:,i], A[:,i], A[:,i])\n",
    "        av = np.reshape(a, m**3)\n",
    "        t =  av - U_trunc[:,j]\n",
    "        t2 = -av - U_trunc[:,j]\n",
    "        d2 = np.linalg.norm(t2)\n",
    "        d = np.linalg.norm(t)\n",
    "        \n",
    "        dist.append(np.min([d,d2]))\n",
    "    print(np.min(dist), \"\\n\")"
   ]
  },
  {
   "cell_type": "code",
   "execution_count": 75,
   "metadata": {},
   "outputs": [
    {
     "data": {
      "text/plain": [
       "1000"
      ]
     },
     "execution_count": 75,
     "metadata": {},
     "output_type": "execute_result"
    }
   ],
   "source": [
    "U_trunc.shape[1]"
   ]
  },
  {
   "cell_type": "code",
   "execution_count": null,
   "metadata": {
    "collapsed": true
   },
   "outputs": [],
   "source": []
  }
 ],
 "metadata": {
  "kernelspec": {
   "display_name": "Python 3",
   "language": "python",
   "name": "python3"
  },
  "language_info": {
   "codemirror_mode": {
    "name": "ipython",
    "version": 3
   },
   "file_extension": ".py",
   "mimetype": "text/x-python",
   "name": "python",
   "nbconvert_exporter": "python",
   "pygments_lexer": "ipython3",
   "version": "3.5.2"
  }
 },
 "nbformat": 4,
 "nbformat_minor": 2
}
