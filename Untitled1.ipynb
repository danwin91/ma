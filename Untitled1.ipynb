{
 "cells": [
  {
   "cell_type": "code",
   "execution_count": 1,
   "metadata": {
    "collapsed": true
   },
   "outputs": [],
   "source": [
    "import numpy as np \n",
    "import json\n",
    "\n",
    "\n",
    "with open('sigmoid20171211-163537.json') as json_data:\n",
    "    d = json.load(json_data)"
   ]
  },
  {
   "cell_type": "code",
   "execution_count": 3,
   "metadata": {},
   "outputs": [
    {
     "data": {
      "text/plain": [
       "dict_keys(['(8, 4, 18, 10000)', '(16, 8, 26, 10000)', '(32, 16, 32, 10000)', '(8, 8, 28, 10000)', '(64, 16, 84, 10000)', '(4, 4, 24, 10000)', '(8, 8, 18, 10000)', '(64, 16, 74, 10000)', '(2, 2, 12, 10000)', '(8, 8, 8, 10000)', '(4, 4, 4, 10000)', '(32, 8, 42, 10000)', '(4, 1, 4, 10000)', '(8, 4, 28, 10000)', '(4, 1, 14, 10000)', '(8, 2, 8, 10000)', '(16, 8, 16, 10000)', '(8, 2, 18, 10000)', '(2, 2, 22, 10000)', '(16, 16, 36, 10000)', '(32, 16, 52, 10000)', '(32, 16, 42, 10000)', '(4, 2, 24, 10000)', '(16, 4, 26, 10000)', '(2, 1, 2, 10000)', '(8, 4, 8, 10000)', '(2, 1, 22, 10000)', '(16, 16, 16, 10000)', '(16, 16, 26, 10000)', '(32, 8, 32, 10000)', '(4, 1, 24, 10000)', '(32, 8, 52, 10000)', '(2, 2, 2, 10000)', '(16, 8, 36, 10000)', '(16, 4, 16, 10000)', '(64, 16, 64, 10000)', '(4, 2, 14, 10000)', '(4, 2, 4, 10000)', '(8, 2, 28, 10000)', '(16, 4, 36, 10000)', '(2, 1, 12, 10000)', '(4, 4, 14, 10000)'])"
      ]
     },
     "execution_count": 3,
     "metadata": {},
     "output_type": "execute_result"
    }
   ],
   "source": [
    "d.keys()"
   ]
  },
  {
   "cell_type": "code",
   "execution_count": null,
   "metadata": {
    "collapsed": true
   },
   "outputs": [],
   "source": []
  }
 ],
 "metadata": {
  "kernelspec": {
   "display_name": "Python 3",
   "language": "python",
   "name": "python3"
  },
  "language_info": {
   "codemirror_mode": {
    "name": "ipython",
    "version": 3
   },
   "file_extension": ".py",
   "mimetype": "text/x-python",
   "name": "python",
   "nbconvert_exporter": "python",
   "pygments_lexer": "ipython3",
   "version": "3.5.2"
  }
 },
 "nbformat": 4,
 "nbformat_minor": 2
}
