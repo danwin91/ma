{
 "cells": [
  {
   "cell_type": "code",
   "execution_count": 56,
   "metadata": {},
   "outputs": [
    {
     "ename": "NameError",
     "evalue": "name 'create_data' is not defined",
     "output_type": "error",
     "traceback": [
      "\u001b[0;31m---------------------------------------------------------------------------\u001b[0m",
      "\u001b[0;31mNameError\u001b[0m                                 Traceback (most recent call last)",
      "\u001b[0;32m<ipython-input-56-e959cee85b6d>\u001b[0m in \u001b[0;36m<module>\u001b[0;34m()\u001b[0m\n\u001b[1;32m     17\u001b[0m \u001b[0md\u001b[0m \u001b[0;34m=\u001b[0m \u001b[0;36m50\u001b[0m\u001b[0;34m\u001b[0m\u001b[0m\n\u001b[1;32m     18\u001b[0m \u001b[0mm_x\u001b[0m \u001b[0;34m=\u001b[0m \u001b[0;36m1000\u001b[0m\u001b[0;34m\u001b[0m\u001b[0m\n\u001b[0;32m---> 19\u001b[0;31m \u001b[0mA\u001b[0m\u001b[0;34m,\u001b[0m\u001b[0mB\u001b[0m \u001b[0;34m=\u001b[0m \u001b[0mcreate_data\u001b[0m\u001b[0;34m(\u001b[0m\u001b[0mm\u001b[0m\u001b[0;34m,\u001b[0m\u001b[0mm_1\u001b[0m\u001b[0;34m,\u001b[0m\u001b[0md\u001b[0m\u001b[0;34m)\u001b[0m\u001b[0;34m\u001b[0m\u001b[0m\n\u001b[0m\u001b[1;32m     20\u001b[0m \u001b[0mA_tensor\u001b[0m \u001b[0;34m=\u001b[0m \u001b[0mnp\u001b[0m\u001b[0;34m.\u001b[0m\u001b[0marray\u001b[0m\u001b[0;34m(\u001b[0m\u001b[0;34m[\u001b[0m\u001b[0mnp\u001b[0m\u001b[0;34m.\u001b[0m\u001b[0mreshape\u001b[0m\u001b[0;34m(\u001b[0m\u001b[0mtensor2\u001b[0m\u001b[0;34m(\u001b[0m\u001b[0mA\u001b[0m\u001b[0;34m[\u001b[0m\u001b[0;34m:\u001b[0m\u001b[0;34m,\u001b[0m \u001b[0mi\u001b[0m\u001b[0;34m]\u001b[0m\u001b[0;34m,\u001b[0m \u001b[0mA\u001b[0m\u001b[0;34m[\u001b[0m\u001b[0;34m:\u001b[0m\u001b[0;34m,\u001b[0m\u001b[0mi\u001b[0m\u001b[0;34m]\u001b[0m\u001b[0;34m)\u001b[0m \u001b[0;34m,\u001b[0m \u001b[0md\u001b[0m\u001b[0;34m**\u001b[0m\u001b[0;36m2\u001b[0m\u001b[0;34m)\u001b[0m \u001b[0;32mfor\u001b[0m \u001b[0mi\u001b[0m \u001b[0;32min\u001b[0m \u001b[0mrange\u001b[0m\u001b[0;34m(\u001b[0m\u001b[0mA\u001b[0m\u001b[0;34m.\u001b[0m\u001b[0mshape\u001b[0m\u001b[0;34m[\u001b[0m\u001b[0;36m1\u001b[0m\u001b[0;34m]\u001b[0m\u001b[0;34m)\u001b[0m\u001b[0;34m]\u001b[0m\u001b[0;34m)\u001b[0m\u001b[0;34m.\u001b[0m\u001b[0mT\u001b[0m\u001b[0;34m\u001b[0m\u001b[0m\n\u001b[1;32m     21\u001b[0m \u001b[0mAb_tensor\u001b[0m \u001b[0;34m=\u001b[0m \u001b[0mnp\u001b[0m\u001b[0;34m.\u001b[0m\u001b[0marray\u001b[0m\u001b[0;34m(\u001b[0m\u001b[0;34m[\u001b[0m\u001b[0mnp\u001b[0m\u001b[0;34m.\u001b[0m\u001b[0mreshape\u001b[0m\u001b[0;34m(\u001b[0m\u001b[0mtensor2\u001b[0m\u001b[0;34m(\u001b[0m\u001b[0mA\u001b[0m\u001b[0;34m.\u001b[0m\u001b[0mdot\u001b[0m\u001b[0;34m(\u001b[0m\u001b[0mB\u001b[0m\u001b[0;34m)\u001b[0m\u001b[0;34m[\u001b[0m\u001b[0;34m:\u001b[0m\u001b[0;34m,\u001b[0m \u001b[0mi\u001b[0m\u001b[0;34m]\u001b[0m\u001b[0;34m,\u001b[0m \u001b[0mA\u001b[0m\u001b[0;34m.\u001b[0m\u001b[0mdot\u001b[0m\u001b[0;34m(\u001b[0m\u001b[0mB\u001b[0m\u001b[0;34m)\u001b[0m\u001b[0;34m[\u001b[0m\u001b[0;34m:\u001b[0m\u001b[0;34m,\u001b[0m\u001b[0mi\u001b[0m\u001b[0;34m]\u001b[0m\u001b[0;34m)\u001b[0m\u001b[0;34m,\u001b[0m \u001b[0md\u001b[0m\u001b[0;34m**\u001b[0m\u001b[0;36m2\u001b[0m\u001b[0;34m)\u001b[0m \u001b[0;32mfor\u001b[0m \u001b[0mi\u001b[0m \u001b[0;32min\u001b[0m \u001b[0mrange\u001b[0m\u001b[0;34m(\u001b[0m\u001b[0mm_1\u001b[0m\u001b[0;34m)\u001b[0m\u001b[0;34m]\u001b[0m\u001b[0;34m)\u001b[0m\u001b[0;34m.\u001b[0m\u001b[0mT\u001b[0m\u001b[0;34m\u001b[0m\u001b[0m\n",
      "\u001b[0;31mNameError\u001b[0m: name 'create_data' is not defined"
     ]
    }
   ],
   "source": [
    "%matplotlib inline\n",
    "import numpy as np\n",
    "import matplotlib.pyplot as plt\n",
    "import pandas as pd\n",
    "#own modules\n",
    "from decomp_algorithm import run_algorithm, algo1, create_data\n",
    "#from tanh import g,dg,ddg,dddg\n",
    "import myplots\n",
    "from tensor_util import *\n",
    "import json\n",
    "import time\n",
    "g_name = \"sigmoid\"\n",
    "\n",
    "\n",
    "m_1 = 10\n",
    "m = 30\n",
    "d = 50\n",
    "m_x = 1000\n",
    "A,B = create_data(m,m_1,d)\n",
    "A_tensor = np.array([np.reshape(tensor2(A[:, i], A[:,i]) , d**2) for i in range(A.shape[1])]).T\n",
    "Ab_tensor = np.array([np.reshape(tensor2(A.dot(B)[:, i], A.dot(B)[:,i]), d**2) for i in range(m_1)]).T\n",
    "\n",
    "\n",
    "for runid in range(2):\n",
    "    res_2, res_3, X, ddf = run_algorithm(A,B,m_x, g_name = g_name,  symm = False, verbose = True, mode = [2])\n",
    "    if res_2:\n",
    "        L_2, D_2, V_2 = res_2\n",
    "    indizes = []\n",
    "    values = []\n",
    "    indizes_2 = []\n",
    "    values_2 = []\n",
    "    for l in range(1000):\n",
    "        j = 10 # number of random vec(nabla^2 f(x_j) used in forn. algorithm)\n",
    "        J = np.random.permutation(m_x)[:j]\n",
    "\n",
    "        X_0 = np.mean([ddf[i] for i in J], axis=0)\n",
    "        #print(X_0[0,0])\n",
    "        X_0 = X_0 / np.linalg.norm(X_0)\n",
    "        #X_0 = np.reshape(X_0, d**2)\n",
    "\n",
    "\n",
    "        k = m #m or m_1+m the number of basisvectors of L_2 used\n",
    "\n",
    "        resu=np.reshape(algo1(X_0,L_2[:,:m], gamma=1.5,n = 100), d**2)\n",
    "        #print(A_tensor.T.dot(resu))\n",
    "        indizes.append(np.argmax(np.abs(A_tensor.T.dot(resu))))\n",
    "        values.append(np.max(np.abs(A_tensor.T.dot(resu))))\n",
    "        indizes_2.append(np.argmax(np.abs(Ab_tensor.T.dot(resu))))\n",
    "        values_2.append(np.max(np.abs(Ab_tensor.T.dot(resu))))\n",
    "        #print(\"----\")\n",
    "        #print(Ab_tensor.T.dot(resu))\n",
    "    print(np.unique(indizes))\n",
    "    print(np.mean(values))\n",
    "    print(np.min(values))\n",
    "    #plt.hist(indizes)\n",
    "\n",
    "    print(np.unique(indizes_2))\n",
    "    print(np.mean(values_2))\n",
    "    #plt.hist(indizes_2)\n",
    "\n"
   ]
  },
  {
   "cell_type": "code",
   "execution_count": null,
   "metadata": {},
   "outputs": [],
   "source": []
  },
  {
   "cell_type": "code",
   "execution_count": 54,
   "metadata": {},
   "outputs": [],
   "source": [
    "indizes = []\n",
    "values = []\n",
    "indizes_2 = []\n",
    "values_2 = []\n",
    "for l in range(1000):\n",
    "    j = 10 # number of random vec(nabla^2 f(x_j) used in forn. algorithm)\n",
    "    J = np.random.permutation(m_x)[:j]\n",
    "\n",
    "    X_0 = np.mean([ddf[i] for i in J], axis=0)\n",
    "    #print(X_0[0,0])\n",
    "    X_0 = X_0 / np.linalg.norm(X_0)\n",
    "    #X_0 = np.reshape(X_0, d**2)\n",
    "\n",
    "\n",
    "    k = m #m or m_1+m the number of basisvectors of L_2 used\n",
    "\n",
    "    resu=np.reshape(algo1(X_0,L_2[:,:m], gamma=1.5,n = 100), d**2)\n",
    "    #print(A_tensor.T.dot(resu))\n",
    "    indizes.append(np.argmax(np.abs(A_tensor.T.dot(resu))))\n",
    "    values.append(np.max(np.abs(A_tensor.T.dot(resu))))\n",
    "    indizes_2.append(np.argmax(np.abs(Ab_tensor.T.dot(resu))))\n",
    "    values_2.append(np.max(np.abs(Ab_tensor.T.dot(resu))))\n",
    "    #print(\"----\")\n",
    "    #print(Ab_tensor.T.dot(resu))\n",
    "%matplotlib inline\n",
    "print(np.unique(indizes))\n",
    "print(np.mean(values))\n",
    "print(np.min(values))\n",
    "#plt.hist(indizes)\n",
    "\n",
    "print(np.unique(indizes_2))\n",
    "print(np.mean(values_2))\n",
    "#plt.hist(indizes_2)"
   ]
  },
  {
   "cell_type": "code",
   "execution_count": 55,
   "metadata": {},
   "outputs": [
    {
     "name": "stdout",
     "output_type": "stream",
     "text": [
      "[ 3  5  9 10 11 13 15 23 26]\n",
      "0.993923061275\n",
      "0.967257571908\n",
      "[0 2 3 4 6 7 8]\n",
      "0.187858970169\n"
     ]
    },
    {
     "data": {
      "text/plain": [
       "(array([  72.,    0.,  380.,   53.,    0.,  311.,    0.,   43.,   30.,  111.]),\n",
       " array([ 0. ,  0.8,  1.6,  2.4,  3.2,  4. ,  4.8,  5.6,  6.4,  7.2,  8. ]),\n",
       " <a list of 10 Patch objects>)"
      ]
     },
     "execution_count": 55,
     "metadata": {},
     "output_type": "execute_result"
    },
    {
     "data": {
      "image/png": "[encoded data removed]",
      "text/plain": [
       "<matplotlib.figure.Figure at 0x7fd57319dac8>"
      ]
     },
     "metadata": {},
     "output_type": "display_data"
    }
   ],
   "source": []
  },
  {
   "cell_type": "code",
   "execution_count": 10,
   "metadata": {},
   "outputs": [
    {
     "name": "stdout",
     "output_type": "stream",
     "text": [
      "[ 0  3  5 10 11 12 13 23 25 26 28]\n",
      "0.999639086434\n"
     ]
    },
    {
     "data": {
      "text/plain": [
       "(array([  1.,  37.,   0.,   5.,   8.,   0.,   0.,   0.,  25.,  24.]),\n",
       " array([  0. ,   2.8,   5.6,   8.4,  11.2,  14. ,  16.8,  19.6,  22.4,\n",
       "         25.2,  28. ]),\n",
       " <a list of 10 Patch objects>)"
      ]
     },
     "execution_count": 10,
     "metadata": {},
     "output_type": "execute_result"
    },
    {
     "data": {
      "image/png": "[encoded data removed]",
      "text/plain": [
       "<matplotlib.figure.Figure at 0x7fd5739aacc0>"
      ]
     },
     "metadata": {},
     "output_type": "display_data"
    }
   ],
   "source": [
    "print(np.unique(indizes))\n",
    "print(np.max(values))\n",
    "plt.hist(indizes)\n"
   ]
  },
  {
   "cell_type": "code",
   "execution_count": null,
   "metadata": {},
   "outputs": [],
   "source": []
  },
  {
   "cell_type": "code",
   "execution_count": null,
   "metadata": {},
   "outputs": [],
   "source": []
  }
 ],
 "metadata": {
  "kernelspec": {
   "display_name": "Python 3",
   "language": "python",
   "name": "python3"
  },
  "language_info": {
   "codemirror_mode": {
    "name": "ipython",
    "version": 3
   },
   "file_extension": ".py",
   "mimetype": "text/x-python",
   "name": "python",
   "nbconvert_exporter": "python",
   "pygments_lexer": "ipython3",
   "version": "3.5.2"
  }
 },
 "nbformat": 4,
 "nbformat_minor": 2
}
