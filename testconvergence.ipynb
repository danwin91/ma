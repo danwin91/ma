{
 "cells": [
  {
   "cell_type": "code",
   "execution_count": 1,
   "metadata": {},
   "outputs": [],
   "source": [
    "import main_function as mf\n",
    "import numpy as np\n",
    "from scipy.stats import ortho_group\n",
    "from sigmoid import *\n",
    "\n",
    "def uniformSphere(d, m_x):\n",
    "    x = np.random.normal(size=(m_x,d))\n",
    "    for i in range(m_x):\n",
    "        x[i] = x[i] / np.linalg.norm(x[i])\n",
    "    return x"
   ]
  },
  {
   "cell_type": "code",
   "execution_count": 184,
   "metadata": {},
   "outputs": [],
   "source": [
    "m = 20\n",
    "m_1 = 10\n",
    "m_x = 10\n",
    "d = 200\n",
    "\n",
    "\n",
    "X = uniformSphere(d, m_x)\n",
    "x = X[0]\n",
    "A = ortho_group.rvs(dim = d)[:m]# m orthogonal vectors with dim m, a_1, ..., a_m\n",
    "#A = np.identity(d)[:,:m]\n",
    "A = np.transpose(A)\n",
    "B = ortho_group.rvs(dim = m)[:m_1]#m_1 orthogonal vectors with dimension m b_1, ..., b_m_1\n",
    "#B = np.identity(m)[:,:m_1]\n",
    "B = np.transpose(B)"
   ]
  },
  {
   "cell_type": "code",
   "execution_count": 149,
   "metadata": {},
   "outputs": [],
   "source": [
    "V_x = A.dot(np.diag(dg(A.T.dot(X[0])))).dot(B)"
   ]
  },
  {
   "cell_type": "code",
   "execution_count": 150,
   "metadata": {},
   "outputs": [],
   "source": [
    "TERM1 = V_x.dot(np.diag(ddg(B.T.dot(g(A.T.dot(x)))))).dot(V_x.T)"
   ]
  },
  {
   "cell_type": "code",
   "execution_count": 151,
   "metadata": {},
   "outputs": [
    {
     "data": {
      "text/plain": [
       "0.00025076156859808567"
      ]
     },
     "execution_count": 151,
     "metadata": {},
     "output_type": "execute_result"
    }
   ],
   "source": [
    "np.mean(np.abs(TERM1))"
   ]
  },
  {
   "cell_type": "code",
   "execution_count": 152,
   "metadata": {},
   "outputs": [],
   "source": [
    "TERM2 = A.dot(np.diag(B.dot(dg(B.T.dot(g(A.T.dot(x)))))*ddg(A.T.dot(x)))).dot(A.T)"
   ]
  },
  {
   "cell_type": "code",
   "execution_count": 185,
   "metadata": {},
   "outputs": [
    {
     "data": {
      "text/plain": [
       "(200, 10)"
      ]
     },
     "execution_count": 185,
     "metadata": {},
     "output_type": "execute_result"
    }
   ],
   "source": [
    "X = np.array(X).T\n",
    "X.shape"
   ]
  },
  {
   "cell_type": "code",
   "execution_count": 186,
   "metadata": {},
   "outputs": [
    {
     "data": {
      "text/plain": [
       "array([[ 0.00514488, -0.05254584,  0.08874321, -0.03766079, -0.01754217,\n",
       "        -0.01290249,  0.01375822,  0.03899513, -0.02776931, -0.08526208],\n",
       "       [-0.0327203 ,  0.04852659,  0.02467442, -0.13187341, -0.01596103,\n",
       "        -0.09085567,  0.00157711,  0.06214724, -0.03856645, -0.01098652],\n",
       "       [ 0.00310669,  0.0371475 , -0.1297369 , -0.10730597, -0.02728002,\n",
       "         0.04951317, -0.02858043,  0.08398635, -0.01670979, -0.02997816],\n",
       "       [ 0.08722151, -0.06071812, -0.03362436,  0.0546356 , -0.04782915,\n",
       "         0.01286698,  0.07461105, -0.11140711, -0.00506907,  0.04762553],\n",
       "       [ 0.01806947, -0.0598539 ,  0.07063869, -0.02851175, -0.03828773,\n",
       "         0.0482717 ,  0.07468539,  0.00735395, -0.00731096, -0.01385645],\n",
       "       [ 0.01599277,  0.00231275, -0.00176674, -0.02045717, -0.07884576,\n",
       "         0.0074349 ,  0.03220959, -0.10364282, -0.02334581,  0.09498811],\n",
       "       [-0.00490109,  0.07750044,  0.02333609, -0.04193355,  0.00608202,\n",
       "         0.09069572, -0.07879643, -0.02867206, -0.04331071,  0.0320286 ],\n",
       "       [ 0.12565144, -0.07166914,  0.1188791 ,  0.04581584,  0.05515793,\n",
       "        -0.04047956, -0.08252095,  0.05315715, -0.22320984, -0.05804075],\n",
       "       [ 0.02102172, -0.18847238, -0.04329709, -0.0230189 , -0.00712275,\n",
       "        -0.06150567, -0.06512032, -0.08134088, -0.02314267,  0.10831566],\n",
       "       [-0.20250027,  0.01617767, -0.09741719, -0.06807705, -0.01610925,\n",
       "        -0.08027604,  0.02499326,  0.09358942,  0.08846623,  0.03174423],\n",
       "       [ 0.02712551, -0.05591441, -0.00121841, -0.08532617,  0.06814393,\n",
       "        -0.05420211, -0.06801568,  0.04805514,  0.17676095, -0.05913385],\n",
       "       [-0.01442191,  0.11625294,  0.07080249, -0.05636484,  0.02114381,\n",
       "         0.00540225,  0.06129562,  0.01090607, -0.03244544, -0.0186554 ],\n",
       "       [-0.02140634,  0.22816524,  0.03507609, -0.02405213, -0.14305742,\n",
       "        -0.01926897, -0.03721786, -0.01103821,  0.0584378 , -0.08533033],\n",
       "       [ 0.02178962, -0.00905811, -0.04620168,  0.02165965,  0.08203736,\n",
       "         0.04341998,  0.00927564,  0.02801852,  0.02483712, -0.03981856],\n",
       "       [-0.03699472, -0.03501279, -0.05131021,  0.12061313,  0.01995   ,\n",
       "         0.09722736, -0.01014397, -0.10443767, -0.00646783,  0.00660141],\n",
       "       [ 0.14329913, -0.03773424,  0.14355461,  0.04373293,  0.02360742,\n",
       "         0.03941724,  0.03527043, -0.11236586, -0.024852  , -0.03384886],\n",
       "       [-0.0944841 , -0.06750243, -0.0285674 ,  0.06935445,  0.01743526,\n",
       "        -0.02818648, -0.04665849, -0.04974092, -0.06648999,  0.0333899 ],\n",
       "       [ 0.04060962, -0.01618459,  0.05852197, -0.11867539,  0.06832825,\n",
       "        -0.04123387,  0.14406079,  0.08873368, -0.04221236,  0.00459096],\n",
       "       [ 0.00282244, -0.0322586 , -0.07190305,  0.05495016, -0.11877688,\n",
       "        -0.18525134, -0.0401498 , -0.04694912,  0.0769159 , -0.05626554],\n",
       "       [ 0.01555858,  0.06522034, -0.04444286,  0.07486519, -0.05707315,\n",
       "        -0.07951617,  0.06634969, -0.05422548, -0.04969003, -0.00509997]])"
      ]
     },
     "execution_count": 186,
     "metadata": {},
     "output_type": "execute_result"
    }
   ],
   "source": [
    "A.T.dot(X)"
   ]
  },
  {
   "cell_type": "code",
   "execution_count": 239,
   "metadata": {},
   "outputs": [
    {
     "data": {
      "text/plain": [
       "0.00012628559997141789"
      ]
     },
     "execution_count": 239,
     "metadata": {},
     "output_type": "execute_result"
    }
   ],
   "source": [
    "d = 1000000\n",
    "m_x = 10\n",
    "X = uniformSphere(d,m_x)\n",
    "np.dot(X[0],X[1])"
   ]
  },
  {
   "cell_type": "code",
   "execution_count": 193,
   "metadata": {},
   "outputs": [
    {
     "data": {
      "text/plain": [
       "(array([  13.,   37.,   81.,  166.,  223.,  200.,  161.,   77.,   28.,   14.]),\n",
       " array([-0.49360853, -0.39235679, -0.29110505, -0.18985331, -0.08860157,\n",
       "         0.01265017,  0.1139019 ,  0.21515364,  0.31640538,  0.41765712,\n",
       "         0.51890886]),\n",
       " <a list of 10 Patch objects>)"
      ]
     },
     "execution_count": 193,
     "metadata": {},
     "output_type": "execute_result"
    },
    {
     "data": {
      "image/png": "[encoded data removed]",
      "text/plain": [
       "<matplotlib.figure.Figure at 0x7fb1240f1f28>"
      ]
     },
     "metadata": {},
     "output_type": "display_data"
    }
   ],
   "source": [
    "%matplotlib inline\n",
    "import matplotlib.pyplot as plt\n",
    "plt.hist(X[0,:])"
   ]
  },
  {
   "cell_type": "code",
   "execution_count": null,
   "metadata": {},
   "outputs": [],
   "source": []
  }
 ],
 "metadata": {
  "kernelspec": {
   "display_name": "Python 3",
   "language": "python",
   "name": "python3"
  },
  "language_info": {
   "codemirror_mode": {
    "name": "ipython",
    "version": 3
   },
   "file_extension": ".py",
   "mimetype": "text/x-python",
   "name": "python",
   "nbconvert_exporter": "python",
   "pygments_lexer": "ipython3",
   "version": "3.5.2"
  }
 },
 "nbformat": 4,
 "nbformat_minor": 2
}
