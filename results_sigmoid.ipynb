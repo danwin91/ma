{
 "cells": [
  {
   "cell_type": "code",
   "execution_count": 1,
   "metadata": {},
   "outputs": [],
   "source": [
    "%matplotlib inline\n",
    "#Standard imports\n",
    "import numpy as np\n",
    "import matplotlib.pyplot as plt\n",
    "from scipy.stats import ortho_group\n",
    "\n",
    "#own modules\n",
    "from sigmoid import g,dg,ddg,dddg, plot_sigmoid\n",
    "import myplots\n",
    "from tensor_util import *\n",
    "from main_function import f, df, ddf, dddf\n",
    "\n",
    "\n"
   ]
  },
  {
   "cell_type": "code",
   "execution_count": 2,
   "metadata": {
    "collapsed": true
   },
   "outputs": [],
   "source": [
    "def uniformSphere(d, m_x):\n",
    "    x = np.random.normal(size=(m_x,d))\n",
    "    for i in range(m_x):\n",
    "        x[i] = x[i] / np.linalg.norm(x[i])\n",
    "    return x\n",
    "\n",
    "def perm_matrix(m):\n",
    "    P = np.identity(m)\n",
    "    P = np.random.permutation(P)#permutes only the rows\n",
    "    return P, np.linalg.inv(P)\n",
    "def decomp_svd_dd(X,A,B, randomize=False):\n",
    "    \"\"\"tbd.\n",
    "\n",
    "    Parameters\n",
    "    ----------\n",
    "    X : matrix\n",
    "        m_x samples \\in R^m\n",
    "    A : matrix\n",
    "        m orthonormal vectors \\in R^m\n",
    "    B : matrix\n",
    "        m_1 orthonormal vectors \\in R^m\n",
    "    randomize: bool\n",
    "        if true performs a random unfolding\n",
    "    Returns\n",
    "    -------\n",
    "    alot\n",
    "        True if successful, False otherwise.\n",
    "    \"\"\"\n",
    "    m = A.shape[1]\n",
    "    ddf_values = ddf(X,A,B)\n",
    "    unfolds = [np.reshape(dd, (m**2,)) for dd in ddf_values]\n",
    "    \n",
    "    if randomize:\n",
    "        P,Q = perm_matrix(m**2)\n",
    "        unfolds = [np.dot(P,v) for v in unfolds]\n",
    "        \n",
    "    M = np.transpose(np.array(unfolds))\n",
    "    U,D,V = np.linalg.svd(M)\n",
    "    if randomize: \n",
    "        U = np.dot(Q,U)\n",
    "    return ddf_values, U, D\n",
    "        \n",
    "    \n",
    "def decomp_svd_ddd(X,A,B, randomize=False):\n",
    "    \"\"\"tbd.\n",
    "\n",
    "    Parameters\n",
    "    ----------\n",
    "    X : matrix\n",
    "        m_x samples \\in R^m\n",
    "    A : matrix\n",
    "        m orthonormal vectors \\in R^m\n",
    "    B : matrix\n",
    "        m_1 orthonormal vectors \\in R^m\n",
    "    randomize: bool\n",
    "        if true performs a random unfolding\n",
    "    Returns\n",
    "    -------\n",
    "    alot\n",
    "        True if successful, False otherwise.\n",
    "    \"\"\"\n",
    "    m = A.shape[1]\n",
    "    dddf_values = dddf(X,A,B)\n",
    "    unfolds = [np.reshape(dd, (m**3,)) for dd in dddf_values]\n",
    "    \n",
    "    if randomize:\n",
    "        P,Q = perm_matrix(m**3)\n",
    "        unfolds = [np.dot(P,v) for v in unfolds]\n",
    "        \n",
    "    M = np.transpose(np.array(unfolds))\n",
    "    U,D,V = np.linalg.svd(M)\n",
    "    if randomize: \n",
    "        U = np.dot(Q,U)\n",
    "    return dddf_values, U, D"
   ]
  },
  {
   "cell_type": "code",
   "execution_count": 3,
   "metadata": {
    "collapsed": true
   },
   "outputs": [],
   "source": [
    "#Setting parameters, and creating data\n",
    "m = 3\n",
    "m_1 = 1\n",
    "m_x = 1000\n",
    "X = uniformSphere(m, m_x)\n",
    "A = ortho_group.rvs(dim = m)# m orthogonal vectors with dim m, a_1, ..., a_m\n",
    "A = np.transpose(A)\n",
    "B = ortho_group.rvs(dim = m)[:m_1]#m_1 orthogonal vectors with dimension m b_1, ..., b_m_1\n",
    "B = np.transpose(B)"
   ]
  },
  {
   "cell_type": "code",
   "execution_count": 4,
   "metadata": {},
   "outputs": [
    {
     "name": "stdout",
     "output_type": "stream",
     "text": [
      "dist(U[:, :4], a_0*a_0) = [1.3960299760884896, 0.060316819299503548, 1.409411398834193, 1.3753779979015122]\n",
      "dist(U[:, :4], a_1*a_1) = [0.058251341884043191, 1.3940391925843572, 1.4124941904205293, 1.3778159309790259]\n",
      "dist(U[:, :4], a_2*a_2) = [1.4135726308428098, 1.4119858245813217, 0.067413329401421848, 1.3658084234257686]\n",
      "(sv_1+ ...+ sv_4)/(sum_i sv_i)=0.9936216858710183\n"
     ]
    },
    {
     "data": {
      "image/png": "[encoded data removed]",
      "text/plain": [
       "<matplotlib.figure.Figure at 0x7fc7690b6550>"
      ]
     },
     "metadata": {},
     "output_type": "display_data"
    }
   ],
   "source": [
    "ddf_values, U_dd, D_dd = decomp_svd_dd(X,A,B,randomize=True)\n",
    "myplots.plot_singular_values(D_dd, m, m_1, m_x)\n",
    "k = m+m_1\n",
    "for i in range(m):\n",
    "    print(\"dist(U[:, :{}], a_{}*a_{}) = {}\".format(k,i,i,tensor_distance_to_columns(A[:,i], U_dd, k, mode=2)))\n",
    "\n",
    "ratio_sv = np.sum(D_dd[:k])/np.sum(D_dd)\n",
    "print(\"(sv_1+ ...+ sv_{})/(sum_i sv_i)={}\".format(k, ratio_sv))"
   ]
  },
  {
   "cell_type": "code",
   "execution_count": 5,
   "metadata": {
    "scrolled": true
   },
   "outputs": [
    {
     "name": "stdout",
     "output_type": "stream",
     "text": [
      "dist(U[:, :4], a_0*a_0*a_0) = 0.5321880548831919\n",
      "dist(U[:, :4], a_1*a_1*a_1) = 0.47911281700919817\n",
      "dist(U[:, :4], a_2*a_2*a_2) = 0.31701118940814643\n",
      "(sv_1+ ...+ sv_4)/(sum_i sv_i)=0.9683698216328702\n"
     ]
    },
    {
     "data": {
      "image/png": "[encoded data removed]",
      "text/plain": [
       "<matplotlib.figure.Figure at 0x7fc7984f6eb8>"
      ]
     },
     "metadata": {},
     "output_type": "display_data"
    }
   ],
   "source": [
    "dddf_values, U_ddd, D_ddd = decomp_svd_ddd(X,A,B, randomize=False)\n",
    "myplots.plot_singular_values(D_ddd, m,m_1,m_x)\n",
    "k = m+m_1\n",
    "for i in range(m):\n",
    "    print(\"dist(U[:, :{}], a_{}*a_{}*a_{}) = {}\".format(k,i,i,i,np.min(tensor_distance_to_columns(A[:,i], U_ddd, k, mode=3))))\n",
    "\n",
    "ratio_sv = np.sum(D_ddd[:k])/np.sum(D_ddd)\n",
    "print(\"(sv_1+ ...+ sv_{})/(sum_i sv_i)={}\".format(k, ratio_sv))"
   ]
  },
  {
   "cell_type": "code",
   "execution_count": 6,
   "metadata": {},
   "outputs": [
    {
     "data": {
      "image/png": "[encoded data removed]",
      "text/plain": [
       "<matplotlib.figure.Figure at 0x7fc766f4d400>"
      ]
     },
     "metadata": {},
     "output_type": "display_data"
    }
   ],
   "source": [
    "plot_sigmoid()"
   ]
  },
  {
   "cell_type": "code",
   "execution_count": 7,
   "metadata": {},
   "outputs": [
    {
     "name": "stdout",
     "output_type": "stream",
     "text": [
      "\n",
      "*****************************************************\n",
      "Running for m=2,m_1=1, m_x=8:\n",
      "\n",
      "\n",
      "SVD for unfolding of second derivative:\n",
      "Ratio sv: (sv_1+ ...+ sv_3)/(sum_i sv_i)=1.0\n",
      "\n",
      "dist(U[:, :3], a_0*a_0) = 0.13551643165665986\n",
      "dist(U[:, :3], a_1*a_1) = 0.018606822606416207\n",
      "Average dist: 0.07706162713153804\n",
      "\n",
      "SVD for unfolding of third derivative:\n",
      "Ratio sv: (sv_1+ ...+ sv_3)/(sum_i sv_i)=0.9979786863611659\n",
      "\n",
      "dist(U[:, :3], a_0*a_0*a_0) = 0.0677496526564279\n",
      "dist(U[:, :3], a_1*a_1*a_1) = 0.05323431942794471\n",
      "Average dist: 0.06049198604218631\n",
      "\n",
      "*****************************************************\n",
      "Running for m=2,m_1=1, m_x=64:\n",
      "\n",
      "\n",
      "SVD for unfolding of second derivative:\n",
      "Ratio sv: (sv_1+ ...+ sv_3)/(sum_i sv_i)=1.0\n",
      "\n",
      "dist(U[:, :3], a_0*a_0) = 0.16575153364251896\n",
      "dist(U[:, :3], a_1*a_1) = 0.17790437119782593\n",
      "Average dist: 0.17182795242017246\n",
      "\n",
      "SVD for unfolding of third derivative:\n",
      "Ratio sv: (sv_1+ ...+ sv_3)/(sum_i sv_i)=0.9664134712386482\n",
      "\n",
      "dist(U[:, :3], a_0*a_0*a_0) = 0.6944152075828018\n",
      "dist(U[:, :3], a_1*a_1*a_1) = 0.6919775299796997\n",
      "Average dist: 0.6931963687812508\n",
      "\n",
      "*****************************************************\n",
      "Running for m=2,m_1=1, m_x=512:\n",
      "\n",
      "\n",
      "SVD for unfolding of second derivative:\n",
      "Ratio sv: (sv_1+ ...+ sv_3)/(sum_i sv_i)=0.9999999999999998\n",
      "\n",
      "dist(U[:, :3], a_0*a_0) = 0.036593030017221\n",
      "dist(U[:, :3], a_1*a_1) = 0.03745282235878014\n",
      "Average dist: 0.03702292618800057\n",
      "\n",
      "SVD for unfolding of third derivative:\n",
      "Ratio sv: (sv_1+ ...+ sv_3)/(sum_i sv_i)=0.9909252440768523\n",
      "\n",
      "dist(U[:, :3], a_0*a_0*a_0) = 0.4763405165022942\n",
      "dist(U[:, :3], a_1*a_1*a_1) = 0.4764585047619094\n",
      "Average dist: 0.4763995106321018\n",
      "\n",
      "*****************************************************\n",
      "Running for m=2,m_1=1, m_x=4096:\n",
      "\n",
      "\n",
      "SVD for unfolding of second derivative:\n",
      "Ratio sv: (sv_1+ ...+ sv_3)/(sum_i sv_i)=0.9999999999999998\n",
      "\n",
      "dist(U[:, :3], a_0*a_0) = 0.008749390739119992\n",
      "dist(U[:, :3], a_1*a_1) = 0.009001679773993044\n",
      "Average dist: 0.008875535256556518\n",
      "\n",
      "SVD for unfolding of third derivative:\n",
      "Ratio sv: (sv_1+ ...+ sv_3)/(sum_i sv_i)=0.9923139082432986\n",
      "\n",
      "dist(U[:, :3], a_0*a_0*a_0) = 0.0648261224945279\n",
      "dist(U[:, :3], a_1*a_1*a_1) = 0.06462833003706427\n",
      "Average dist: 0.06472722626579608\n",
      "\n",
      "*****************************************************\n",
      "Running for m=4,m_1=1, m_x=64:\n",
      "\n",
      "\n",
      "SVD for unfolding of second derivative:\n",
      "Ratio sv: (sv_1+ ...+ sv_5)/(sum_i sv_i)=0.9978833780622539\n",
      "\n",
      "dist(U[:, :5], a_0*a_0) = 0.14858488087528196\n",
      "dist(U[:, :5], a_1*a_1) = 0.07715894598733289\n",
      "dist(U[:, :5], a_2*a_2) = 0.5256288306997645\n",
      "dist(U[:, :5], a_3*a_3) = 0.5213946183526129\n",
      "Average dist: 0.31819181897874804\n",
      "\n",
      "SVD for unfolding of third derivative:\n",
      "Ratio sv: (sv_1+ ...+ sv_5)/(sum_i sv_i)=0.9915858659760856\n",
      "\n",
      "dist(U[:, :5], a_0*a_0*a_0) = 0.3792221445966818\n",
      "dist(U[:, :5], a_1*a_1*a_1) = 0.46962991386289976\n",
      "dist(U[:, :5], a_2*a_2*a_2) = 0.8049795859583414\n",
      "dist(U[:, :5], a_3*a_3*a_3) = 0.7265938274813535\n",
      "Average dist: 0.5951063679748191\n",
      "\n",
      "*****************************************************\n",
      "Running for m=4,m_1=1, m_x=512:\n",
      "\n",
      "\n",
      "SVD for unfolding of second derivative:\n",
      "Ratio sv: (sv_1+ ...+ sv_5)/(sum_i sv_i)=0.9897882824637564\n",
      "\n",
      "dist(U[:, :5], a_0*a_0) = 0.5744935865360401\n",
      "dist(U[:, :5], a_1*a_1) = 0.10000239335651377\n",
      "dist(U[:, :5], a_2*a_2) = 0.5846537171251367\n",
      "dist(U[:, :5], a_3*a_3) = 0.09464205815908128\n",
      "Average dist: 0.33844793879419294\n",
      "\n",
      "SVD for unfolding of third derivative:\n",
      "Ratio sv: (sv_1+ ...+ sv_5)/(sum_i sv_i)=0.958307748405521\n",
      "\n",
      "dist(U[:, :5], a_0*a_0*a_0) = 0.6925793106505516\n",
      "dist(U[:, :5], a_1*a_1*a_1) = 0.23469464789621514\n",
      "dist(U[:, :5], a_2*a_2*a_2) = 0.7955705598355964\n",
      "dist(U[:, :5], a_3*a_3*a_3) = 0.44125594041974764\n",
      "Average dist: 0.5410251147005277\n",
      "\n",
      "*****************************************************\n",
      "Running for m=4,m_1=1, m_x=4096:\n",
      "\n",
      "\n",
      "SVD for unfolding of second derivative:\n",
      "Ratio sv: (sv_1+ ...+ sv_5)/(sum_i sv_i)=0.9960968535963922\n",
      "\n",
      "dist(U[:, :5], a_0*a_0) = 0.052278113896260664\n",
      "dist(U[:, :5], a_1*a_1) = 0.05146803299181999\n",
      "dist(U[:, :5], a_2*a_2) = 0.044106278934729445\n",
      "dist(U[:, :5], a_3*a_3) = 0.06545483061816662\n",
      "Average dist: 0.05332681411024418\n",
      "\n",
      "SVD for unfolding of third derivative:\n",
      "Ratio sv: (sv_1+ ...+ sv_5)/(sum_i sv_i)=0.9811115891272305\n",
      "\n",
      "dist(U[:, :5], a_0*a_0*a_0) = 0.44125428111847553\n",
      "dist(U[:, :5], a_1*a_1*a_1) = 0.4031229254006851\n",
      "dist(U[:, :5], a_2*a_2*a_2) = 0.25118467929606564\n",
      "dist(U[:, :5], a_3*a_3*a_3) = 0.3180866432054701\n",
      "Average dist: 0.3534121322551741\n",
      "\n",
      "*****************************************************\n",
      "Running for m=8,m_1=1, m_x=512:\n",
      "\n",
      "\n",
      "SVD for unfolding of second derivative:\n",
      "Ratio sv: (sv_1+ ...+ sv_9)/(sum_i sv_i)=0.9941666522769425\n",
      "\n",
      "dist(U[:, :9], a_0*a_0) = 0.4791905945171143\n",
      "dist(U[:, :9], a_1*a_1) = 0.024676906149604383\n",
      "dist(U[:, :9], a_2*a_2) = 0.14645497014709843\n",
      "dist(U[:, :9], a_3*a_3) = 0.20544314882891257\n",
      "dist(U[:, :9], a_4*a_4) = 0.4848632855340401\n",
      "dist(U[:, :9], a_5*a_5) = 0.21452524935364922\n",
      "dist(U[:, :9], a_6*a_6) = 0.19880937790277808\n",
      "dist(U[:, :9], a_7*a_7) = 0.6219663701133741\n",
      "Average dist: 0.2969912378183214\n",
      "\n",
      "SVD for unfolding of third derivative:\n",
      "Ratio sv: (sv_1+ ...+ sv_9)/(sum_i sv_i)=0.9761176412162998\n",
      "\n",
      "dist(U[:, :9], a_0*a_0*a_0) = 0.6943589183210374\n",
      "dist(U[:, :9], a_1*a_1*a_1) = 0.7143961212133457\n",
      "dist(U[:, :9], a_2*a_2*a_2) = 0.7003410218988839\n",
      "dist(U[:, :9], a_3*a_3*a_3) = 0.5358588323005188\n",
      "dist(U[:, :9], a_4*a_4*a_4) = 0.853124386638947\n",
      "dist(U[:, :9], a_5*a_5*a_5) = 0.4343928117779149\n",
      "dist(U[:, :9], a_6*a_6*a_6) = 0.5532994026338869\n",
      "dist(U[:, :9], a_7*a_7*a_7) = 0.21847313696055543\n",
      "Average dist: 0.5880305789681363\n",
      "\n",
      "*****************************************************\n",
      "Running for m=8,m_1=1, m_x=4096:\n",
      "\n",
      "\n",
      "SVD for unfolding of second derivative:\n",
      "Ratio sv: (sv_1+ ...+ sv_9)/(sum_i sv_i)=0.9873979838061432\n",
      "\n",
      "dist(U[:, :9], a_0*a_0) = 0.4424224724718492\n",
      "dist(U[:, :9], a_1*a_1) = 0.5624129865616648\n",
      "dist(U[:, :9], a_2*a_2) = 0.4798099536606961\n",
      "dist(U[:, :9], a_3*a_3) = 0.4364960024581386\n",
      "dist(U[:, :9], a_4*a_4) = 0.5765441100999872\n",
      "dist(U[:, :9], a_5*a_5) = 0.00844935243525899\n",
      "dist(U[:, :9], a_6*a_6) = 0.5051147977138448\n",
      "dist(U[:, :9], a_7*a_7) = 0.5585326135357738\n",
      "Average dist: 0.4462227861171517\n",
      "\n",
      "SVD for unfolding of third derivative:\n",
      "Ratio sv: (sv_1+ ...+ sv_9)/(sum_i sv_i)=0.9494814404467878\n",
      "\n",
      "dist(U[:, :9], a_0*a_0*a_0) = 0.8054247532929856\n",
      "dist(U[:, :9], a_1*a_1*a_1) = 0.7222057627022765\n",
      "dist(U[:, :9], a_2*a_2*a_2) = 0.4916979218452627\n",
      "dist(U[:, :9], a_3*a_3*a_3) = 0.5731642771547183\n",
      "dist(U[:, :9], a_4*a_4*a_4) = 0.7738504236954334\n",
      "dist(U[:, :9], a_5*a_5*a_5) = 1.3896848904429244\n",
      "dist(U[:, :9], a_6*a_6*a_6) = 0.5532747984770627\n",
      "dist(U[:, :9], a_7*a_7*a_7) = 0.5651902349621921\n",
      "Average dist: 0.734311632821607\n",
      "\n",
      "*****************************************************\n",
      "Running for m=16,m_1=1, m_x=4096:\n",
      "\n",
      "\n",
      "SVD for unfolding of second derivative:\n",
      "Ratio sv: (sv_1+ ...+ sv_17)/(sum_i sv_i)=0.9983996472871244\n",
      "\n",
      "dist(U[:, :17], a_0*a_0) = 0.030721532212689348\n",
      "dist(U[:, :17], a_1*a_1) = 0.17533439755457583\n",
      "dist(U[:, :17], a_2*a_2) = 0.10632069650363572\n",
      "dist(U[:, :17], a_3*a_3) = 0.04941098619460374\n",
      "dist(U[:, :17], a_4*a_4) = 0.07350209169027966\n",
      "dist(U[:, :17], a_5*a_5) = 0.44168274639345845\n",
      "dist(U[:, :17], a_6*a_6) = 0.08949657780094938\n",
      "dist(U[:, :17], a_7*a_7) = 0.012084553014595144\n",
      "dist(U[:, :17], a_8*a_8) = 0.07955078457425346\n",
      "dist(U[:, :17], a_9*a_9) = 0.007571866326682427\n",
      "dist(U[:, :17], a_10*a_10) = 0.059300113189132045\n",
      "dist(U[:, :17], a_11*a_11) = 0.12850101734958402\n",
      "dist(U[:, :17], a_12*a_12) = 0.4440243115824781\n",
      "dist(U[:, :17], a_13*a_13) = 0.17440124074454502\n",
      "dist(U[:, :17], a_14*a_14) = 0.09124104369006357\n",
      "dist(U[:, :17], a_15*a_15) = 0.07713724789047638\n",
      "Average dist: 0.12751757541950015\n",
      "\n",
      "SVD for unfolding of third derivative:\n",
      "Ratio sv: (sv_1+ ...+ sv_17)/(sum_i sv_i)=0.9936973907846612\n",
      "\n",
      "dist(U[:, :17], a_0*a_0*a_0) = 0.7729754715912871\n",
      "dist(U[:, :17], a_1*a_1*a_1) = 0.7941917901978047\n",
      "dist(U[:, :17], a_2*a_2*a_2) = 0.5003018472375649\n",
      "dist(U[:, :17], a_3*a_3*a_3) = 0.7496417832936672\n",
      "dist(U[:, :17], a_4*a_4*a_4) = 0.5097137175387895\n",
      "dist(U[:, :17], a_5*a_5*a_5) = 0.6181968208611992\n",
      "dist(U[:, :17], a_6*a_6*a_6) = 0.6856164403889495\n",
      "dist(U[:, :17], a_7*a_7*a_7) = 0.23358400134817914\n",
      "dist(U[:, :17], a_8*a_8*a_8) = 0.8634581105137364\n",
      "dist(U[:, :17], a_9*a_9*a_9) = 1.3811846774524554\n",
      "dist(U[:, :17], a_10*a_10*a_10) = 0.6604001966755958\n",
      "dist(U[:, :17], a_11*a_11*a_11) = 0.4659490556633273\n",
      "dist(U[:, :17], a_12*a_12*a_12) = 0.6952777265902692\n",
      "dist(U[:, :17], a_13*a_13*a_13) = 0.7439570340124468\n",
      "dist(U[:, :17], a_14*a_14*a_14) = 0.5028693377677843\n",
      "dist(U[:, :17], a_15*a_15*a_15) = 0.3024058532695758\n",
      "Average dist: 0.6549827415251646\n"
     ]
    }
   ],
   "source": [
    "m = [2**k for k in range(1,6)]\n",
    "m_x = [8**k for k in range(1, 5)]\n",
    "m_1 = 1\n",
    "ratio_dd = np.zeros((5,4))\n",
    "ratio_ddd = np.zeros((5,4))\n",
    "average_dists_dd = np.zeros((5,4))\n",
    "average_dists_ddd = np.zeros((5,4))\n",
    "\n",
    "for i in range(5):\n",
    "    for j in range(i, 4):\n",
    "        print(\"\\n*****************************************************\")\n",
    "        print(\"Running for m={},m_1={}, m_x={}:\\n\".format(m[i],m_1,m_x[j]))\n",
    "        X = uniformSphere(m[i], m_x[j])\n",
    "        A = ortho_group.rvs(dim = m[i])\n",
    "        A = np.transpose(A)\n",
    "        B = ortho_group.rvs(dim = m[i])[:m_1]\n",
    "        B = np.transpose(B)\n",
    "        print(\"\\nSVD for unfolding of second derivative:\")\n",
    "        ddf_values, U_dd, D_dd = decomp_svd_dd(X,A,B,randomize=True)\n",
    "        k = m[i]+m_1\n",
    "\n",
    "        ratio_sv = np.sum(D_dd[:k])/np.sum(D_dd)\n",
    "        ratio_dd[i,j] = ratio_sv\n",
    "        print(\"Ratio sv: (sv_1+ ...+ sv_{})/(sum_i sv_i)={}\\n\".format(k, ratio_sv))\n",
    "        \n",
    "        dists = []\n",
    "        for ind in range(m[i]):\n",
    "            d = np.min(tensor_distance_to_columns(A[:,ind], U_dd, k, mode=2))\n",
    "            dists.append(d)\n",
    "            print(\"dist(U[:, :{}], a_{}*a_{}) = {}\".format(k,ind,ind,d))\n",
    "        avg = np.mean(dists)\n",
    "        average_dists_dd[i,j]=avg\n",
    "        print(\"Average dist: {}\".format(avg))\n",
    "        \n",
    "\n",
    "        \n",
    "        print(\"\\nSVD for unfolding of third derivative:\")\n",
    "        dddf_values, U_ddd, D_ddd = decomp_svd_ddd(X,A,B,randomize=True)\n",
    "        k = m[i]+m_1\n",
    "        \n",
    "        ratio_sv = np.sum(D_ddd[:k])/np.sum(D_ddd)\n",
    "        ratio_ddd[i,j] = ratio_sv\n",
    "        print(\"Ratio sv: (sv_1+ ...+ sv_{})/(sum_i sv_i)={}\\n\".format(k, ratio_sv))\n",
    "        \n",
    "        dists = []\n",
    "        for ind in range(m[i]):\n",
    "            d = np.min(tensor_distance_to_columns(A[:,ind], U_ddd, k, mode=3))\n",
    "            dists.append(d)\n",
    "            print(\"dist(U[:, :{}], a_{}*a_{}*a_{}) = {}\".format(k,ind,ind,ind,d))\n",
    "            \n",
    "\n",
    "        avg = np.mean(dists)\n",
    "        average_dists_dd[i,j]=avg\n",
    "        print(\"Average dist: {}\".format(avg))"
   ]
  },
  {
   "cell_type": "code",
   "execution_count": 8,
   "metadata": {},
   "outputs": [
    {
     "data": {
      "text/plain": [
       "array([[ 1.        ,  1.        ,  1.        ,  1.        ],\n",
       "       [ 0.        ,  0.99788338,  0.98978828,  0.99609685],\n",
       "       [ 0.        ,  0.        ,  0.99416665,  0.98739798],\n",
       "       [ 0.        ,  0.        ,  0.        ,  0.99839965],\n",
       "       [ 0.        ,  0.        ,  0.        ,  0.        ]])"
      ]
     },
     "execution_count": 8,
     "metadata": {},
     "output_type": "execute_result"
    }
   ],
   "source": [
    "ratio_dd"
   ]
  },
  {
   "cell_type": "code",
   "execution_count": 9,
   "metadata": {},
   "outputs": [
    {
     "data": {
      "text/plain": [
       "array([[ 0.99797869,  0.96641347,  0.99092524,  0.99231391],\n",
       "       [ 0.        ,  0.99158587,  0.95830775,  0.98111159],\n",
       "       [ 0.        ,  0.        ,  0.97611764,  0.94948144],\n",
       "       [ 0.        ,  0.        ,  0.        ,  0.99369739],\n",
       "       [ 0.        ,  0.        ,  0.        ,  0.        ]])"
      ]
     },
     "execution_count": 9,
     "metadata": {},
     "output_type": "execute_result"
    }
   ],
   "source": [
    "ratio_ddd"
   ]
  },
  {
   "cell_type": "code",
   "execution_count": 10,
   "metadata": {},
   "outputs": [
    {
     "ename": "NameError",
     "evalue": "name 'ax' is not defined",
     "output_type": "error",
     "traceback": [
      "\u001b[0;31m---------------------------------------------------------------------------\u001b[0m",
      "\u001b[0;31mNameError\u001b[0m                                 Traceback (most recent call last)",
      "\u001b[0;32m<ipython-input-10-887c2fe4aaac>\u001b[0m in \u001b[0;36m<module>\u001b[0;34m()\u001b[0m\n\u001b[1;32m      3\u001b[0m \u001b[0mfig\u001b[0m \u001b[0;34m=\u001b[0m \u001b[0mplt\u001b[0m\u001b[0;34m.\u001b[0m\u001b[0mfigure\u001b[0m\u001b[0;34m(\u001b[0m\u001b[0;34m)\u001b[0m\u001b[0;34m\u001b[0m\u001b[0m\n\u001b[1;32m      4\u001b[0m \u001b[0;31m#ax=fig.gca(projection=\"3d\")\u001b[0m\u001b[0;34m\u001b[0m\u001b[0;34m\u001b[0m\u001b[0m\n\u001b[0;32m----> 5\u001b[0;31m \u001b[0msurf\u001b[0m \u001b[0;34m=\u001b[0m \u001b[0max\u001b[0m\u001b[0;34m.\u001b[0m\u001b[0mplot_surface\u001b[0m\u001b[0;34m(\u001b[0m\u001b[0mX\u001b[0m\u001b[0;34m,\u001b[0m\u001b[0mY\u001b[0m\u001b[0;34m,\u001b[0m \u001b[0mratio_dd\u001b[0m\u001b[0;34m,\u001b[0m \u001b[0mcmap\u001b[0m\u001b[0;34m=\u001b[0m\u001b[0;34m\"coolwarm\"\u001b[0m\u001b[0;34m,\u001b[0m \u001b[0mlinewidth\u001b[0m\u001b[0;34m=\u001b[0m\u001b[0;36m0\u001b[0m\u001b[0;34m)\u001b[0m\u001b[0;34m\u001b[0m\u001b[0m\n\u001b[0m",
      "\u001b[0;31mNameError\u001b[0m: name 'ax' is not defined"
     ]
    },
    {
     "data": {
      "text/plain": [
       "<matplotlib.figure.Figure at 0x7fc766f3ddd8>"
      ]
     },
     "metadata": {},
     "output_type": "display_data"
    }
   ],
   "source": [
    "from mpl_toolkits.mplot3d import Axes3D\n",
    "X,Y = np.meshgrid(m, m_x)\n",
    "fig = plt.figure()\n",
    "#ax=fig.gca(projection=\"3d\")\n",
    "surf = ax.plot_surface(X,Y, ratio_dd, cmap=\"coolwarm\", linewidth=0)"
   ]
  },
  {
   "cell_type": "code",
   "execution_count": null,
   "metadata": {},
   "outputs": [],
   "source": [
    "from mpl_toolkits.mplot3d import Axes3D\n",
    "fig = plt.figure()\n",
    "ax = fig.add_subplot(111, projection='3d')\n",
    "ax.plot3D(X,Y,ratio_dd)"
   ]
  },
  {
   "cell_type": "code",
   "execution_count": null,
   "metadata": {},
   "outputs": [],
   "source": [
    "ratio_dd"
   ]
  },
  {
   "cell_type": "code",
   "execution_count": null,
   "metadata": {
    "collapsed": true
   },
   "outputs": [],
   "source": []
  }
 ],
 "metadata": {
  "kernelspec": {
   "display_name": "Python 3",
   "language": "python",
   "name": "python3"
  },
  "language_info": {
   "codemirror_mode": {
    "name": "ipython",
    "version": 3
   },
   "file_extension": ".py",
   "mimetype": "text/x-python",
   "name": "python",
   "nbconvert_exporter": "python",
   "pygments_lexer": "ipython3",
   "version": "3.5.2"
  }
 },
 "nbformat": 4,
 "nbformat_minor": 2
}
