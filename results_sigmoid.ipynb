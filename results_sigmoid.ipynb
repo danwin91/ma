{
 "cells": [
  {
   "cell_type": "code",
   "execution_count": 13,
   "metadata": {},
   "outputs": [],
   "source": [
    "%matplotlib inline\n",
    "#Standard imports\n",
    "import numpy as np\n",
    "import matplotlib.pyplot as plt\n",
    "from scipy.stats import ortho_group\n",
    "\n",
    "\n",
    "#own modules\n",
    "from sigmoid import g,dg,ddg,dddg, plot_sigmoid\n",
    "import myplots\n",
    "from tensor_util import *\n",
    "from main_function import f, df, ddf, dddf"
   ]
  },
  {
   "cell_type": "code",
   "execution_count": 14,
   "metadata": {
    "collapsed": true
   },
   "outputs": [],
   "source": [
    "def uniformSphere(d, m_x):\n",
    "    x = np.random.normal(size=(m_x,d))\n",
    "    for i in range(m_x):\n",
    "        x[i] = x[i] / np.linalg.norm(x[i])\n",
    "    return x\n",
    "\n",
    "def perm_matrix(m):\n",
    "    P = np.identity(m)\n",
    "    P = np.random.permutation(P)#permutes only the rows\n",
    "    return P, np.linalg.inv(P)\n",
    "def decomp_svd_dd(X,A,B, randomize=False):\n",
    "    \"\"\"tbd.\n",
    "\n",
    "    Parameters\n",
    "    ----------\n",
    "    X : matrix\n",
    "        m_x samples \\in R^m\n",
    "    A : matrix\n",
    "        m orthonormal vectors \\in R^m\n",
    "    B : matrix\n",
    "        m_1 orthonormal vectors \\in R^m\n",
    "    randomize: bool\n",
    "        if true performs a random unfolding\n",
    "    Returns\n",
    "    -------\n",
    "    alot\n",
    "        True if successful, False otherwise.\n",
    "    \"\"\"\n",
    "    m = A.shape[1]\n",
    "    ddf_values = ddf(X,A,B)\n",
    "    unfolds = [np.reshape(dd, (m**2,)) for dd in ddf_values]\n",
    "    \n",
    "    if randomize:\n",
    "        P,Q = perm_matrix(m**2)\n",
    "        unfolds = [np.dot(P,v) for v in unfolds]\n",
    "        \n",
    "    M = np.transpose(np.array(unfolds))\n",
    "    U,D,V = np.linalg.svd(M)\n",
    "    if randomize: \n",
    "        U = np.dot(Q,U)\n",
    "    return ddf_values, U, D\n",
    "        \n",
    "    \n",
    "def decomp_svd_ddd(X,A,B, randomize=False):\n",
    "    \"\"\"tbd.\n",
    "\n",
    "    Parameters\n",
    "    ----------\n",
    "    X : matrix\n",
    "        m_x samples \\in R^m\n",
    "    A : matrix\n",
    "        m orthonormal vectors \\in R^m\n",
    "    B : matrix\n",
    "        m_1 orthonormal vectors \\in R^m\n",
    "    randomize: bool\n",
    "        if true performs a random unfolding\n",
    "    Returns\n",
    "    -------\n",
    "    alot\n",
    "        True if successful, False otherwise.\n",
    "    \"\"\"\n",
    "    m = A.shape[1]\n",
    "    dddf_values = dddf(X,A,B)\n",
    "    unfolds = [np.reshape(dd, (m**3,)) for dd in dddf_values]\n",
    "    \n",
    "    if randomize:\n",
    "        P,Q = perm_matrix(m**3)\n",
    "        unfolds = [np.dot(P,v) for v in unfolds]\n",
    "        \n",
    "    M = np.transpose(np.array(unfolds))\n",
    "    U,D,V = np.linalg.svd(M)\n",
    "    if randomize: \n",
    "        U = np.dot(Q,U)\n",
    "    return dddf_values, U, D"
   ]
  },
  {
   "cell_type": "code",
   "execution_count": 15,
   "metadata": {
    "collapsed": true
   },
   "outputs": [],
   "source": [
    "#Setting parameters, and creating data\n",
    "m = 2\n",
    "m_1 = 1\n",
    "m_x = 100\n",
    "X = uniformSphere(m, m_x)\n",
    "A = ortho_group.rvs(dim = m)# m orthogonal vectors with dim m, a_1, ..., a_m\n",
    "A = np.transpose(A)\n",
    "B = ortho_group.rvs(dim = m)[:m_1]#m_1 orthogonal vectors with dimension m b_1, ..., b_m_1\n",
    "B = np.transpose(B)"
   ]
  },
  {
   "cell_type": "code",
   "execution_count": 16,
   "metadata": {},
   "outputs": [
    {
     "name": "stdout",
     "output_type": "stream",
     "text": [
      "SVD for unfolding of third derivative:\n",
      "Ratio singular values: (sv_1+ ...+ sv_3)/(sum_i sv_i)=1.000000\n",
      "\n",
      "Minimal distance of a_i*a_i to the first m+m_1 left singular vectors:\n",
      "dist(U[:, :3], a_0*a_0) = 0.050386\n",
      "dist(U[:, :3], a_1*a_1) = 0.063982\n"
     ]
    },
    {
     "data": {
      "image/png": "[encoded data removed]",
      "text/plain": [
       "<matplotlib.figure.Figure at 0x7f33b0141a20>"
      ]
     },
     "metadata": {},
     "output_type": "display_data"
    }
   ],
   "source": [
    "ddf_values, U_dd, D_dd = decomp_svd_dd(X,A,B,randomize=True)\n",
    "myplots.plot_singular_values(D_dd, m, m_1, m_x, der = 2, filename=\"sigmoid2nd.pdf\")\n",
    "k = m+m_1\n",
    "\n",
    "print(\"SVD for unfolding of third derivative:\")\n",
    "ratio_sv = np.sum(D_dd[:k])/np.sum(D_dd)\n",
    "print(\"Ratio singular values: (sv_1+ ...+ sv_{})/(sum_i sv_i)={:.6f}\".format(k, ratio_sv))\n",
    "\n",
    "print(\"\\nMinimal distance of a_i*a_i to the first m+m_1 left singular vectors:\")\n",
    "for i in range(m):\n",
    "    print(\"dist(U[:, :{}], a_{}*a_{}) = {:.6f}\".format(k,i,i,np.min(tensor_distance_to_columns(A[:,i], U_dd, k, mode=2))))\n",
    "\n"
   ]
  },
  {
   "cell_type": "code",
   "execution_count": 20,
   "metadata": {},
   "outputs": [
    {
     "data": {
      "text/plain": [
       "((8, 8), (8,))"
      ]
     },
     "execution_count": 20,
     "metadata": {},
     "output_type": "execute_result"
    }
   ],
   "source": [
    "U_ddd.shape, D_ddd.shape"
   ]
  },
  {
   "cell_type": "code",
   "execution_count": 19,
   "metadata": {
    "scrolled": true
   },
   "outputs": [
    {
     "name": "stdout",
     "output_type": "stream",
     "text": [
      "\n",
      "SVD for unfolding of third derivative:\n",
      "Ratio singular values:(sv_1+ ...+ sv_3)/(sum_i sv_i)=0.973649\n",
      "\n",
      "Minimal distance of a_i*a_i*a_i to the first m+m_1 left singular vectors:\n",
      "dist(U[:, :3], a_0*a_0*a_0) = 0.304820\n",
      "dist(U[:, :3], a_1*a_1*a_1) = 0.303725\n"
     ]
    },
    {
     "data": {
      "image/png": "[encoded data removed]",
      "text/plain": [
       "<matplotlib.figure.Figure at 0x7f33b0131ba8>"
      ]
     },
     "metadata": {},
     "output_type": "display_data"
    }
   ],
   "source": [
    "dddf_values, U_ddd, D_ddd = decomp_svd_ddd(X,A,B, randomize=False)\n",
    "myplots.plot_singular_values(D_ddd, m,m_1,m_x, der = 3, filename=\"sigmoid3rd.pdf\")\n",
    "k = m+m_1\n",
    "\n",
    "print(\"\\nSVD for unfolding of third derivative:\")\n",
    "ratio_sv = np.sum(D_ddd[:k])/np.sum(D_ddd)\n",
    "print(\"Ratio singular values:(sv_1+ ...+ sv_{})/(sum_i sv_i)={:.6f}\".format(k, ratio_sv))\n",
    "\n",
    "print(\"\\nMinimal distance of a_i*a_i*a_i to the first m+m_1 left singular vectors:\")\n",
    "for i in range(m):\n",
    "    print(\"dist(U[:, :{}], a_{}*a_{}*a_{}) = {:.6f}\".format(k,i,i,i,np.min(tensor_distance_to_columns(A[:,i], U_ddd, k, mode=3))))\n",
    "\n"
   ]
  },
  {
   "cell_type": "code",
   "execution_count": 6,
   "metadata": {},
   "outputs": [
    {
     "data": {
      "image/png": "[encoded data removed]",
      "text/plain": [
       "<matplotlib.figure.Figure at 0x7f33b09a1470>"
      ]
     },
     "metadata": {},
     "output_type": "display_data"
    }
   ],
   "source": [
    "plot_sigmoid(filename = \"sigmoid.pdf\")"
   ]
  },
  {
   "cell_type": "code",
   "execution_count": 7,
   "metadata": {},
   "outputs": [
    {
     "name": "stdout",
     "output_type": "stream",
     "text": [
      "\n",
      "*****************************************************\n",
      "Running for m=2,m_1=1, m_x=8:\n",
      "\n",
      "\n",
      "SVD for unfolding of second derivative:\n",
      "Ratio sv: (sv_1+ ...+ sv_3)/(sum_i sv_i)=1.000000\n",
      "\n",
      "dist(U[:, :3], a_0*a_0) = 0.017059\n",
      "dist(U[:, :3], a_1*a_1) = 0.055082\n",
      "Average dist: 0.036071\n",
      "\n",
      "SVD for unfolding of third derivative:\n",
      "Ratio sv: (sv_1+ ...+ sv_3)/(sum_i sv_i)=0.982909\n",
      "\n",
      "dist(U[:, :3], a_0*a_0*a_0) = 0.197145\n",
      "dist(U[:, :3], a_1*a_1*a_1) = 0.211742\n",
      "Average dist: 0.204443\n",
      "\n",
      "*****************************************************\n",
      "Running for m=2,m_1=1, m_x=64:\n",
      "\n",
      "\n",
      "SVD for unfolding of second derivative:\n",
      "Ratio sv: (sv_1+ ...+ sv_3)/(sum_i sv_i)=1.000000\n",
      "\n",
      "dist(U[:, :3], a_0*a_0) = 0.051135\n",
      "dist(U[:, :3], a_1*a_1) = 0.085367\n",
      "Average dist: 0.068251\n",
      "\n",
      "SVD for unfolding of third derivative:\n",
      "Ratio sv: (sv_1+ ...+ sv_3)/(sum_i sv_i)=0.978821\n",
      "\n",
      "dist(U[:, :3], a_0*a_0*a_0) = 0.187512\n",
      "dist(U[:, :3], a_1*a_1*a_1) = 0.191689\n",
      "Average dist: 0.189600\n",
      "\n",
      "*****************************************************\n",
      "Running for m=2,m_1=1, m_x=512:\n",
      "\n",
      "\n",
      "SVD for unfolding of second derivative:\n",
      "Ratio sv: (sv_1+ ...+ sv_3)/(sum_i sv_i)=1.000000\n",
      "\n",
      "dist(U[:, :3], a_0*a_0) = 0.029286\n",
      "dist(U[:, :3], a_1*a_1) = 0.039056\n",
      "Average dist: 0.034171\n",
      "\n",
      "SVD for unfolding of third derivative:\n",
      "Ratio sv: (sv_1+ ...+ sv_3)/(sum_i sv_i)=0.977868\n",
      "\n",
      "dist(U[:, :3], a_0*a_0*a_0) = 0.223940\n",
      "dist(U[:, :3], a_1*a_1*a_1) = 0.224537\n",
      "Average dist: 0.224238\n",
      "\n",
      "*****************************************************\n",
      "Running for m=2,m_1=1, m_x=4096:\n",
      "\n",
      "\n",
      "SVD for unfolding of second derivative:\n",
      "Ratio sv: (sv_1+ ...+ sv_3)/(sum_i sv_i)=1.000000\n",
      "\n",
      "dist(U[:, :3], a_0*a_0) = 0.031837\n",
      "dist(U[:, :3], a_1*a_1) = 0.032629\n",
      "Average dist: 0.032233\n",
      "\n",
      "SVD for unfolding of third derivative:\n",
      "Ratio sv: (sv_1+ ...+ sv_3)/(sum_i sv_i)=0.977205\n",
      "\n",
      "dist(U[:, :3], a_0*a_0*a_0) = 0.224267\n",
      "dist(U[:, :3], a_1*a_1*a_1) = 0.224963\n",
      "Average dist: 0.224615\n",
      "\n",
      "*****************************************************\n",
      "Running for m=4,m_1=1, m_x=64:\n",
      "\n",
      "\n",
      "SVD for unfolding of second derivative:\n",
      "Ratio sv: (sv_1+ ...+ sv_5)/(sum_i sv_i)=0.997156\n",
      "\n",
      "dist(U[:, :5], a_0*a_0) = 0.145007\n",
      "dist(U[:, :5], a_1*a_1) = 0.148558\n",
      "dist(U[:, :5], a_2*a_2) = 0.153249\n",
      "dist(U[:, :5], a_3*a_3) = 0.099176\n",
      "Average dist: 0.136497\n",
      "\n",
      "SVD for unfolding of third derivative:\n",
      "Ratio sv: (sv_1+ ...+ sv_5)/(sum_i sv_i)=0.988896\n",
      "\n",
      "dist(U[:, :5], a_0*a_0*a_0) = 0.801273\n",
      "dist(U[:, :5], a_1*a_1*a_1) = 0.742353\n",
      "dist(U[:, :5], a_2*a_2*a_2) = 0.096794\n",
      "dist(U[:, :5], a_3*a_3*a_3) = 0.465045\n",
      "Average dist: 0.526366\n",
      "\n",
      "*****************************************************\n",
      "Running for m=4,m_1=1, m_x=512:\n",
      "\n",
      "\n",
      "SVD for unfolding of second derivative:\n",
      "Ratio sv: (sv_1+ ...+ sv_5)/(sum_i sv_i)=0.996741\n",
      "\n",
      "dist(U[:, :5], a_0*a_0) = 0.517292\n",
      "dist(U[:, :5], a_1*a_1) = 0.518152\n",
      "dist(U[:, :5], a_2*a_2) = 0.035733\n",
      "dist(U[:, :5], a_3*a_3) = 0.062367\n",
      "Average dist: 0.283386\n",
      "\n",
      "SVD for unfolding of third derivative:\n",
      "Ratio sv: (sv_1+ ...+ sv_5)/(sum_i sv_i)=0.988019\n",
      "\n",
      "dist(U[:, :5], a_0*a_0*a_0) = 0.751852\n",
      "dist(U[:, :5], a_1*a_1*a_1) = 0.789053\n",
      "dist(U[:, :5], a_2*a_2*a_2) = 0.108411\n",
      "dist(U[:, :5], a_3*a_3*a_3) = 0.419925\n",
      "Average dist: 0.517310\n",
      "\n",
      "*****************************************************\n",
      "Running for m=4,m_1=1, m_x=4096:\n",
      "\n",
      "\n",
      "SVD for unfolding of second derivative:\n",
      "Ratio sv: (sv_1+ ...+ sv_5)/(sum_i sv_i)=0.996807\n",
      "\n",
      "dist(U[:, :5], a_0*a_0) = 0.262128\n",
      "dist(U[:, :5], a_1*a_1) = 0.266412\n",
      "dist(U[:, :5], a_2*a_2) = 0.100701\n",
      "dist(U[:, :5], a_3*a_3) = 0.061388\n",
      "Average dist: 0.172657\n",
      "\n",
      "SVD for unfolding of third derivative:\n",
      "Ratio sv: (sv_1+ ...+ sv_5)/(sum_i sv_i)=0.987889\n",
      "\n",
      "dist(U[:, :5], a_0*a_0*a_0) = 0.749805\n",
      "dist(U[:, :5], a_1*a_1*a_1) = 0.787752\n",
      "dist(U[:, :5], a_2*a_2*a_2) = 0.115843\n",
      "dist(U[:, :5], a_3*a_3*a_3) = 0.421298\n",
      "Average dist: 0.518674\n",
      "\n",
      "*****************************************************\n",
      "Running for m=8,m_1=1, m_x=512:\n",
      "\n",
      "\n",
      "SVD for unfolding of second derivative:\n",
      "Ratio sv: (sv_1+ ...+ sv_9)/(sum_i sv_i)=0.983014\n",
      "\n",
      "dist(U[:, :9], a_0*a_0) = 0.159568\n",
      "dist(U[:, :9], a_1*a_1) = 0.026214\n",
      "dist(U[:, :9], a_2*a_2) = 0.709763\n",
      "dist(U[:, :9], a_3*a_3) = 0.183330\n",
      "dist(U[:, :9], a_4*a_4) = 0.651017\n",
      "dist(U[:, :9], a_5*a_5) = 0.351933\n",
      "dist(U[:, :9], a_6*a_6) = 0.079184\n",
      "dist(U[:, :9], a_7*a_7) = 0.089907\n",
      "Average dist: 0.281365\n",
      "\n",
      "SVD for unfolding of third derivative:\n",
      "Ratio sv: (sv_1+ ...+ sv_9)/(sum_i sv_i)=0.932738\n",
      "\n",
      "dist(U[:, :9], a_0*a_0*a_0) = 0.758651\n",
      "dist(U[:, :9], a_1*a_1*a_1) = 1.356053\n",
      "dist(U[:, :9], a_2*a_2*a_2) = 0.894222\n",
      "dist(U[:, :9], a_3*a_3*a_3) = 0.615342\n",
      "dist(U[:, :9], a_4*a_4*a_4) = 0.677106\n",
      "dist(U[:, :9], a_5*a_5*a_5) = 0.685619\n",
      "dist(U[:, :9], a_6*a_6*a_6) = 0.822534\n",
      "dist(U[:, :9], a_7*a_7*a_7) = 0.477345\n",
      "Average dist: 0.785859\n",
      "\n",
      "*****************************************************\n",
      "Running for m=8,m_1=1, m_x=4096:\n",
      "\n",
      "\n",
      "SVD for unfolding of second derivative:\n",
      "Ratio sv: (sv_1+ ...+ sv_9)/(sum_i sv_i)=0.982731\n",
      "\n",
      "dist(U[:, :9], a_0*a_0) = 0.148402\n",
      "dist(U[:, :9], a_1*a_1) = 0.018900\n",
      "dist(U[:, :9], a_2*a_2) = 0.783622\n",
      "dist(U[:, :9], a_3*a_3) = 0.130224\n",
      "dist(U[:, :9], a_4*a_4) = 0.747829\n",
      "dist(U[:, :9], a_5*a_5) = 0.361597\n",
      "dist(U[:, :9], a_6*a_6) = 0.107131\n",
      "dist(U[:, :9], a_7*a_7) = 0.042026\n",
      "Average dist: 0.292466\n",
      "\n",
      "SVD for unfolding of third derivative:\n",
      "Ratio sv: (sv_1+ ...+ sv_9)/(sum_i sv_i)=0.931406\n",
      "\n",
      "dist(U[:, :9], a_0*a_0*a_0) = 0.786252\n",
      "dist(U[:, :9], a_1*a_1*a_1) = 1.354760\n",
      "dist(U[:, :9], a_2*a_2*a_2) = 0.787996\n",
      "dist(U[:, :9], a_3*a_3*a_3) = 0.715394\n",
      "dist(U[:, :9], a_4*a_4*a_4) = 0.756952\n",
      "dist(U[:, :9], a_5*a_5*a_5) = 0.686981\n",
      "dist(U[:, :9], a_6*a_6*a_6) = 0.628247\n",
      "dist(U[:, :9], a_7*a_7*a_7) = 0.442979\n",
      "Average dist: 0.769945\n",
      "\n",
      "*****************************************************\n",
      "Running for m=16,m_1=1, m_x=4096:\n",
      "\n",
      "\n",
      "SVD for unfolding of second derivative:\n",
      "Ratio sv: (sv_1+ ...+ sv_17)/(sum_i sv_i)=0.988857\n",
      "\n",
      "dist(U[:, :17], a_0*a_0) = 0.063933\n",
      "dist(U[:, :17], a_1*a_1) = 0.058025\n",
      "dist(U[:, :17], a_2*a_2) = 0.024483\n",
      "dist(U[:, :17], a_3*a_3) = 0.732941\n",
      "dist(U[:, :17], a_4*a_4) = 0.035302\n",
      "dist(U[:, :17], a_5*a_5) = 0.066420\n",
      "dist(U[:, :17], a_6*a_6) = 0.565557\n",
      "dist(U[:, :17], a_7*a_7) = 0.030567\n",
      "dist(U[:, :17], a_8*a_8) = 0.019542\n",
      "dist(U[:, :17], a_9*a_9) = 1.412444\n",
      "dist(U[:, :17], a_10*a_10) = 0.062340\n",
      "dist(U[:, :17], a_11*a_11) = 0.565304\n",
      "dist(U[:, :17], a_12*a_12) = 0.690940\n",
      "dist(U[:, :17], a_13*a_13) = 0.181638\n",
      "dist(U[:, :17], a_14*a_14) = 0.845126\n",
      "dist(U[:, :17], a_15*a_15) = 0.425722\n",
      "Average dist: 0.361268\n",
      "\n",
      "SVD for unfolding of third derivative:\n",
      "Ratio sv: (sv_1+ ...+ sv_17)/(sum_i sv_i)=0.961068\n",
      "\n",
      "dist(U[:, :17], a_0*a_0*a_0) = 0.401801\n",
      "dist(U[:, :17], a_1*a_1*a_1) = 0.405201\n",
      "dist(U[:, :17], a_2*a_2*a_2) = 1.330127\n",
      "dist(U[:, :17], a_3*a_3*a_3) = 0.738916\n",
      "dist(U[:, :17], a_4*a_4*a_4) = 1.382477\n",
      "dist(U[:, :17], a_5*a_5*a_5) = 0.657039\n",
      "dist(U[:, :17], a_6*a_6*a_6) = 0.820941\n",
      "dist(U[:, :17], a_7*a_7*a_7) = 1.391024\n",
      "dist(U[:, :17], a_8*a_8*a_8) = 1.398903\n",
      "dist(U[:, :17], a_9*a_9*a_9) = 1.412946\n",
      "dist(U[:, :17], a_10*a_10*a_10) = 0.819650\n",
      "dist(U[:, :17], a_11*a_11*a_11) = 0.720872\n",
      "dist(U[:, :17], a_12*a_12*a_12) = 0.632788\n",
      "dist(U[:, :17], a_13*a_13*a_13) = 0.751854\n",
      "dist(U[:, :17], a_14*a_14*a_14) = 0.828926\n",
      "dist(U[:, :17], a_15*a_15*a_15) = 0.654964\n",
      "Average dist: 0.896777\n"
     ]
    }
   ],
   "source": [
    "m = [2**k for k in range(1,6)]\n",
    "m_x = [8**k for k in range(1, 5)]\n",
    "m_1 = 1\n",
    "ratio_dd = np.zeros((5,4))\n",
    "ratio_ddd = np.zeros((5,4))\n",
    "average_dists_dd = np.zeros((5,4))\n",
    "average_dists_ddd = np.zeros((5,4))\n",
    "\n",
    "for i in range(5):\n",
    "    A = ortho_group.rvs(dim = m[i])\n",
    "    A = np.transpose(A)\n",
    "    B = ortho_group.rvs(dim = m[i])[:m_1]\n",
    "    B = np.transpose(B)\n",
    "    for j in range(i, 4):\n",
    "        print(\"\\n*****************************************************\")\n",
    "        print(\"Running for m={},m_1={}, m_x={}:\\n\".format(m[i],m_1,m_x[j]))\n",
    "        X = uniformSphere(m[i], m_x[j])\n",
    "        print(\"\\nSVD for unfolding of second derivative:\")\n",
    "        ddf_values, U_dd, D_dd = decomp_svd_dd(X,A,B,randomize=True)\n",
    "        k = m[i]+m_1\n",
    "\n",
    "        ratio_sv = np.sum(D_dd[:k])/np.sum(D_dd)\n",
    "        ratio_dd[i,j] = ratio_sv\n",
    "        print(\"Ratio sv: (sv_1+ ...+ sv_{})/(sum_i sv_i)={:.6f}\\n\".format(k, ratio_sv))\n",
    "        \n",
    "        dists = []\n",
    "        for ind in range(m[i]):\n",
    "            d = np.min(tensor_distance_to_columns(A[:,ind], U_dd, k, mode=2))\n",
    "            dists.append(d)\n",
    "            print(\"dist(U[:, :{}], a_{}*a_{}) = {:.6f}\".format(k,ind,ind,d))\n",
    "        avg = np.mean(dists)\n",
    "        average_dists_dd[i,j]=avg\n",
    "        print(\"Average dist: {:.6f}\".format(avg))\n",
    "        \n",
    "\n",
    "        \n",
    "        print(\"\\nSVD for unfolding of third derivative:\")\n",
    "        dddf_values, U_ddd, D_ddd = decomp_svd_ddd(X,A,B,randomize=True)\n",
    "        k = m[i]+m_1\n",
    "        \n",
    "        ratio_sv = np.sum(D_ddd[:k])/np.sum(D_ddd)\n",
    "        ratio_ddd[i,j] = ratio_sv\n",
    "        print(\"Ratio sv: (sv_1+ ...+ sv_{})/(sum_i sv_i)={:.6f}\\n\".format(k, ratio_sv))\n",
    "        \n",
    "        dists = []\n",
    "        for ind in range(m[i]):\n",
    "            d = np.min(tensor_distance_to_columns(A[:,ind], U_ddd, k, mode=3))\n",
    "            dists.append(d)\n",
    "            print(\"dist(U[:, :{}], a_{}*a_{}*a_{}) = {:.6f}\".format(k,ind,ind,ind,d))\n",
    "            \n",
    "\n",
    "        avg = np.mean(dists)\n",
    "        average_dists_ddd[i,j]=avg\n",
    "        print(\"Average dist: {:.6f}\".format(avg))"
   ]
  },
  {
   "cell_type": "code",
   "execution_count": 8,
   "metadata": {},
   "outputs": [
    {
     "data": {
      "text/plain": [
       "array([[ 1.        ,  1.        ,  1.        ,  1.        ],\n",
       "       [ 0.        ,  0.99715599,  0.99674088,  0.99680679],\n",
       "       [ 0.        ,  0.        ,  0.98301397,  0.98273052],\n",
       "       [ 0.        ,  0.        ,  0.        ,  0.98885728],\n",
       "       [ 0.        ,  0.        ,  0.        ,  0.        ]])"
      ]
     },
     "execution_count": 8,
     "metadata": {},
     "output_type": "execute_result"
    }
   ],
   "source": [
    "ratio_dd"
   ]
  },
  {
   "cell_type": "code",
   "execution_count": 9,
   "metadata": {},
   "outputs": [
    {
     "data": {
      "text/plain": [
       "array([[ 0.98290947,  0.97882118,  0.97786762,  0.97720486],\n",
       "       [ 0.        ,  0.98889591,  0.98801869,  0.98788905],\n",
       "       [ 0.        ,  0.        ,  0.93273767,  0.93140626],\n",
       "       [ 0.        ,  0.        ,  0.        ,  0.9610681 ],\n",
       "       [ 0.        ,  0.        ,  0.        ,  0.        ]])"
      ]
     },
     "execution_count": 9,
     "metadata": {},
     "output_type": "execute_result"
    }
   ],
   "source": [
    "ratio_ddd"
   ]
  },
  {
   "cell_type": "code",
   "execution_count": 10,
   "metadata": {},
   "outputs": [
    {
     "data": {
      "text/plain": [
       "array([[ 0.0360707 ,  0.06825134,  0.03417133,  0.03223336],\n",
       "       [ 0.        ,  0.13649735,  0.28338603,  0.17265711],\n",
       "       [ 0.        ,  0.        ,  0.28136451,  0.29246638],\n",
       "       [ 0.        ,  0.        ,  0.        ,  0.36126767],\n",
       "       [ 0.        ,  0.        ,  0.        ,  0.        ]])"
      ]
     },
     "execution_count": 10,
     "metadata": {},
     "output_type": "execute_result"
    }
   ],
   "source": [
    "average_dists_dd"
   ]
  },
  {
   "cell_type": "code",
   "execution_count": 11,
   "metadata": {},
   "outputs": [
    {
     "data": {
      "text/plain": [
       "array([[ 0.20444328,  0.18960021,  0.2242384 ,  0.22461482],\n",
       "       [ 0.        ,  0.52636626,  0.51731043,  0.51867446],\n",
       "       [ 0.        ,  0.        ,  0.7858592 ,  0.76994522],\n",
       "       [ 0.        ,  0.        ,  0.        ,  0.89677674],\n",
       "       [ 0.        ,  0.        ,  0.        ,  0.        ]])"
      ]
     },
     "execution_count": 11,
     "metadata": {},
     "output_type": "execute_result"
    }
   ],
   "source": [
    "average_dists_ddd"
   ]
  },
  {
   "cell_type": "code",
   "execution_count": 12,
   "metadata": {},
   "outputs": [
    {
     "data": {
      "text/plain": [
       "array([[ 1.        ,  1.        ,  1.        ,  1.        ],\n",
       "       [ 0.        ,  0.99715599,  0.99674088,  0.99680679],\n",
       "       [ 0.        ,  0.        ,  0.98301397,  0.98273052],\n",
       "       [ 0.        ,  0.        ,  0.        ,  0.98885728],\n",
       "       [ 0.        ,  0.        ,  0.        ,  0.        ]])"
      ]
     },
     "execution_count": 12,
     "metadata": {},
     "output_type": "execute_result"
    }
   ],
   "source": [
    "ratio_dd"
   ]
  },
  {
   "cell_type": "code",
   "execution_count": null,
   "metadata": {
    "collapsed": true
   },
   "outputs": [],
   "source": []
  }
 ],
 "metadata": {
  "kernelspec": {
   "display_name": "Python 3",
   "language": "python",
   "name": "python3"
  },
  "language_info": {
   "codemirror_mode": {
    "name": "ipython",
    "version": 3
   },
   "file_extension": ".py",
   "mimetype": "text/x-python",
   "name": "python",
   "nbconvert_exporter": "python",
   "pygments_lexer": "ipython3",
   "version": "3.5.2"
  }
 },
 "nbformat": 4,
 "nbformat_minor": 2
}
