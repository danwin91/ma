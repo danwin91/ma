{
 "cells": [
  {
   "cell_type": "code",
   "execution_count": 1,
   "metadata": {},
   "outputs": [
    {
     "name": "stdout",
     "output_type": "stream",
     "text": [
      "[myplots.py]: Saving plots to /home/pca/code/ma/plots\n",
      "[run_alg] Trying to set g = sigmoid\n",
      "[main_function.py] Found sigmoid, setting g=sigmoid\n",
      "[run_alg] Creating data...\n",
      "[run_alg] Finished creating data, time elapsed 0.08s\n",
      "[run_alg] Calculating second derivative...\n",
      "[run_alg] Finished second derivative, time elapsed 1.02s\n",
      "[run_alg] Decomposing M_2...\n",
      "[run_alg] Finished decomposition of M_2, time elapsed 36.14s\n",
      "[run_alg] Returning, hole execution time: 37.24s\n"
     ]
    }
   ],
   "source": [
    "%matplotlib inline\n",
    "#Standard imports\n",
    "import numpy as np\n",
    "import matplotlib.pyplot as plt\n",
    "#own modules\n",
    "from decomp_algorithm import run_algorithm, algo1\n",
    "from tanh import g,dg,ddg,dddg\n",
    "import myplots\n",
    "from tensor_util import *\n",
    "\n",
    "\n",
    "g_name = \"sigmoid\"\n",
    "m=40\n",
    "m_1=20\n",
    "d=60\n",
    "m_x=10000\n",
    "res_2, res_3, data, ddf = run_algorithm(m,m_1,d,m_x, g_name = g_name, symm = False, verbose = True, mode = [2])\n",
    "L_2, D_2, V = res_2\n",
    "if res_3:\n",
    "    L_3, D_3, _ = res_3\n",
    "A,B,X = data"
   ]
  },
  {
   "cell_type": "code",
   "execution_count": 2,
   "metadata": {},
   "outputs": [
    {
     "data": {
      "image/png": "[encoded data removed]",
      "text/plain": [
       "<matplotlib.figure.Figure at 0x7f86f0172780>"
      ]
     },
     "metadata": {},
     "output_type": "display_data"
    }
   ],
   "source": [
    "myplots.plot_ratio(D_2, m, m_1)"
   ]
  },
  {
   "cell_type": "code",
   "execution_count": 3,
   "metadata": {},
   "outputs": [
    {
     "name": "stdout",
     "output_type": "stream",
     "text": [
      "1.41431928742 1.41410782942\n",
      "1.41395468207 1.41447239529\n",
      "1.41413018317 1.41429693666\n",
      "1.41444325131 1.41398383612\n",
      "1.41420529795 1.41422182675\n",
      "1.41493708807 1.41348966633\n",
      "1.41389033555 1.41453671534\n",
      "1.41446360599 1.41396347454\n",
      "1.41401001478 1.41441708067\n",
      "1.41504653848 1.41338009535\n",
      "1.41419258177 1.41423454266\n",
      "1.41415549625 1.41427162611\n",
      "1.41401801372 1.41440908399\n",
      "1.41383696384 1.41459006064\n",
      "1.41416286453 1.4142642584\n",
      "1.41431140955 1.41411570842\n",
      "1.4142946266 1.4141324935\n",
      "1.41357764738 1.41484919155\n",
      "1.41413466412 1.41429245622\n",
      "1.41501873088 1.41340793519\n",
      "1.41422401847 1.4142031062\n",
      "1.41451675571 1.41391030402\n",
      "1.41418221632 1.41424490773\n",
      "1.41414598157 1.41428113995\n",
      "1.41425356327 1.41417356035\n",
      "0.0207737710351 1.9998921097\n",
      "1.41300406288 1.41542202833\n",
      "1.41431486581 1.41411225168\n",
      "1.41379033955 1.41463665858\n",
      "1.41441916267 1.41400793218\n",
      "1.41416588557 1.41426123757\n",
      "1.41430388867 1.4141232303\n",
      "1.41670637694 1.41171634599\n",
      "1.41328743298 1.41513908567\n",
      "1.41427425479 1.41415286735\n",
      "1.41424266886 1.41418445529\n",
      "1.41455212221 1.41387492146\n",
      "1.41440837871 1.41401871919\n",
      "1.41382586182 1.41460115667\n",
      "1.41342714213 1.41499954555\n"
     ]
    }
   ],
   "source": [
    "D = D_2\n",
    "D[m:]=0\n",
    "v = np.reshape(L_2.dot(D), (d,d))\n",
    "A_tensor = [np.reshape(tensor2(A[:, i], A[:,i]) , d**2) for i in range(A.shape[1])]\n",
    "some = algo1(v, L_2[:,:m+m_1], gamma=1.5, n = 1000)\n",
    "lal = np.reshape(some,d**2)/np.linalg.norm(np.reshape(some,d**2))\n",
    "for a in A_tensor:\n",
    "    print(np.linalg.norm(lal-a), np.linalg.norm(lal +a))"
   ]
  },
  {
   "cell_type": "code",
   "execution_count": 4,
   "metadata": {},
   "outputs": [
    {
     "name": "stdout",
     "output_type": "stream",
     "text": [
      "1.41192906723 1.41649437313\n",
      "1.41470805971 1.41371889207\n",
      "1.4085261708 1.419878173\n",
      "1.37893730984 1.44863104189\n",
      "1.40169005554 1.42662713706\n",
      "1.28233915429 1.53479845366\n",
      "1.4034663945 1.42487967194\n",
      "1.30305275005 1.51725196674\n",
      "1.37345534879 1.45382956528\n",
      "1.38814430986 1.43981088168\n",
      "1.38557122814 1.44228720154\n",
      "1.41042031789 1.41799665969\n",
      "1.40921353835 1.41919597073\n",
      "1.41309252924 1.41533370758\n",
      "1.41437355948 1.41405354716\n",
      "1.40537506871 1.4229971596\n",
      "1.41460827007 1.41381874448\n",
      "1.38951415907 1.43848893\n",
      "1.40873467971 1.41967130076\n",
      "1.39447288578 1.43368245118\n"
     ]
    }
   ],
   "source": [
    "AB_tensor = [np.reshape(tensor2(A.dot(B)[:, i], A.dot(B)[:,i]), d**2) for i in range(m_1)]\n",
    "for ab in AB_tensor:\n",
    "    print(np.linalg.norm(lal-ab), np.linalg.norm(lal +ab))"
   ]
  },
  {
   "cell_type": "code",
   "execution_count": 5,
   "metadata": {},
   "outputs": [
    {
     "data": {
      "text/plain": [
       "'np.set_printoptions(precision=3, suppress=True)\\nprint(np.max(np.abs(U.T.dot(A)),axis=0))\\nprint(np.mean(np.max(np.abs(U.T.dot(A)),axis=0)))'"
      ]
     },
     "execution_count": 5,
     "metadata": {},
     "output_type": "execute_result"
    }
   ],
   "source": [
    "\"\"\"np.set_printoptions(precision=3, suppress=True)\n",
    "print(np.max(np.abs(U.T.dot(A)),axis=0))\n",
    "print(np.mean(np.max(np.abs(U.T.dot(A)),axis=0)))\"\"\""
   ]
  },
  {
   "cell_type": "code",
   "execution_count": 6,
   "metadata": {},
   "outputs": [
    {
     "data": {
      "text/plain": [
       "(40, 20)"
      ]
     },
     "execution_count": 6,
     "metadata": {},
     "output_type": "execute_result"
    }
   ],
   "source": [
    "B.shape"
   ]
  },
  {
   "cell_type": "code",
   "execution_count": 7,
   "metadata": {},
   "outputs": [],
   "source": [
    "o = np.zeros(d**2)\n",
    "o[m:] = 0\n",
    "o[1]= 1 \n",
    "o = o / np.linalg.norm(o)\n",
    "v = np.reshape(L_2.dot(o), (d,d))"
   ]
  },
  {
   "cell_type": "code",
   "execution_count": 8,
   "metadata": {},
   "outputs": [
    {
     "name": "stdout",
     "output_type": "stream",
     "text": [
      "[ 0.433  0.597  0.327  0.843  1.     0.459  0.395  0.513  0.582  0.572\n",
      "  0.936  0.999  0.417  0.473  0.323  0.494  0.625  0.464  0.591  0.512\n",
      "  0.821  0.642  0.46   0.565  0.587  0.437  0.549  0.549  0.353  0.463\n",
      "  0.657  0.409  0.53   0.421  0.538  0.617  0.534  0.44   0.583  0.614]\n",
      "0.558085141245\n"
     ]
    }
   ],
   "source": [
    "U,LUL,W = np.linalg.svd(v, full_matrices=False)\n",
    "np.set_printoptions(precision=3, suppress=True)\n",
    "print(np.max(np.abs(U.T.dot(A)),axis=0))\n",
    "print(np.mean(np.max(np.abs(U.T.dot(A)),axis=0)))"
   ]
  },
  {
   "cell_type": "code",
   "execution_count": 9,
   "metadata": {
    "collapsed": true
   },
   "outputs": [],
   "source": [
    "some = algo1(v, L_2[:, :m], gamma=1.5, n = 5000)"
   ]
  },
  {
   "cell_type": "code",
   "execution_count": 10,
   "metadata": {},
   "outputs": [
    {
     "data": {
      "text/plain": [
       "array([ 0.052,  0.979, -0.193, -0.013, -0.002,  0.011,  0.005,  0.001,\n",
       "        0.005,  0.014,  0.005,  0.002,  0.007,  0.004,  0.002,  0.009,\n",
       "       -0.003, -0.001,  0.003, -0.002,  0.002, -0.003,  0.001,  0.   ,\n",
       "       -0.001, -0.001,  0.001, -0.003,  0.005,  0.   , -0.   ,  0.001,\n",
       "       -0.003, -0.002, -0.001,  0.004,  0.004,  0.008,  0.002,  0.001])"
      ]
     },
     "execution_count": 10,
     "metadata": {},
     "output_type": "execute_result"
    }
   ],
   "source": [
    "L_2[:,:m].T.dot(np.reshape(some,d**2))"
   ]
  },
  {
   "cell_type": "code",
   "execution_count": 11,
   "metadata": {
    "collapsed": true
   },
   "outputs": [],
   "source": [
    "A_tensor = [np.reshape(tensor2(A[:, i], A[:,i]) , d**2) for i in range(A.shape[1])]"
   ]
  },
  {
   "cell_type": "code",
   "execution_count": 12,
   "metadata": {},
   "outputs": [
    {
     "name": "stdout",
     "output_type": "stream",
     "text": [
      "1.41407689455 1.41435021699\n",
      "1.41419871392 1.41422841067\n",
      "1.41422891815 1.41419820643\n",
      "1.41420132576 1.41422579888\n",
      "1.99993068812 0.016650607061\n",
      "1.41591097602 1.41251410895\n",
      "1.41427451541 1.41415260671\n",
      "1.41276195704 1.41566367924\n",
      "1.41426280463 1.4141643184\n",
      "1.41438927522 1.41403782769\n",
      "1.41412364561 1.41430347342\n",
      "1.41414206909 1.41428505204\n",
      "1.41390375556 1.41452330134\n",
      "1.41418370381 1.41424342031\n",
      "1.4142793648 1.41414775688\n",
      "1.41483678646 1.41359006352\n",
      "1.4142037434 1.41422338128\n",
      "1.41497457591 1.4134521391\n",
      "1.41404770249 1.41437940281\n",
      "1.4137475153 1.41467945591\n",
      "1.41412632317 1.4143007962\n",
      "1.41408022814 1.41434688403\n",
      "1.41460011117 1.41382690789\n",
      "1.4141729295 1.41425419407\n",
      "1.41431144504 1.41411567293\n",
      "1.41421979806 1.41420732666\n",
      "1.41611015394 1.41231442388\n",
      "1.4141791199 1.414248004\n",
      "1.41377842264 1.41464856826\n",
      "1.41428826505 1.41413885575\n",
      "1.41425787736 1.414169246\n",
      "1.4140269884 1.41440011174\n",
      "1.41358183282 1.41484500985\n",
      "1.41448790199 1.41393916953\n",
      "1.41398155915 1.41444552754\n",
      "1.41397257945 1.41445450424\n",
      "1.41591545448 1.41250961971\n",
      "1.41409690948 1.41433020564\n",
      "1.41420119534 1.41422592929\n",
      "1.41412554364 1.41430157563\n"
     ]
    }
   ],
   "source": [
    "lal = np.reshape(some,d**2)/np.linalg.norm(np.reshape(some,d**2))\n",
    "for a in A_tensor:\n",
    "    print(np.linalg.norm(lal-a), np.linalg.norm(lal +a))"
   ]
  },
  {
   "cell_type": "code",
   "execution_count": 13,
   "metadata": {},
   "outputs": [
    {
     "name": "stdout",
     "output_type": "stream",
     "text": [
      "0.000193268152952\n",
      "2.09987677964e-05\n",
      "-2.17164594833e-05\n",
      "1.73051156193e-05\n",
      "-0.999861378642\n",
      "-0.00240194601293\n",
      "-8.62024620371e-05\n",
      "0.00205182636422\n",
      "-6.96402810585e-05\n",
      "-0.0002485109282\n",
      "0.000127157462703\n",
      "0.000101104218554\n",
      "0.00043808501263\n",
      "4.222594324e-05\n",
      "-9.30608518968e-05\n",
      "-0.000881566162623\n",
      "1.38860786466e-05\n",
      "-0.00107652523771\n",
      "0.000234547546633\n",
      "0.000658981492635\n",
      "0.000123371065865\n",
      "0.000188554186629\n",
      "-0.000546737268016\n",
      "5.7462727946e-05\n",
      "-0.00013843178867\n",
      "-8.81861169534e-06\n",
      "-0.00268398404435\n",
      "4.87084135173e-05\n",
      "0.000615285835452\n",
      "-0.000105648332283\n",
      "-6.2671838742e-05\n",
      "0.000263838044456\n",
      "0.000893200953703\n",
      "-0.00038801243688\n",
      "0.000328075192426\n",
      "0.000340772276883\n",
      "-0.00240828711997\n",
      "0.000164965296559\n",
      "1.74895430809e-05\n",
      "0.000124473414496\n"
     ]
    }
   ],
   "source": [
    "lal = np.reshape(some,d**2)/np.linalg.norm(np.reshape(some,d**2))\n",
    "for a in A_tensor:\n",
    "    print(np.dot(lal,a))"
   ]
  },
  {
   "cell_type": "code",
   "execution_count": 14,
   "metadata": {},
   "outputs": [
    {
     "data": {
      "text/plain": [
       "1.0000000000000016"
      ]
     },
     "execution_count": 14,
     "metadata": {},
     "output_type": "execute_result"
    }
   ],
   "source": [
    "np.linalg.norm(a)"
   ]
  },
  {
   "cell_type": "code",
   "execution_count": 15,
   "metadata": {
    "collapsed": true
   },
   "outputs": [],
   "source": [
    "U, D, V = np.linalg.svd(v, full_matrices=False)"
   ]
  },
  {
   "cell_type": "code",
   "execution_count": 16,
   "metadata": {
    "collapsed": true
   },
   "outputs": [],
   "source": [
    "U, D, V = np.linalg.svd(ddf[1])"
   ]
  },
  {
   "cell_type": "code",
   "execution_count": 17,
   "metadata": {},
   "outputs": [],
   "source": [
    "#np.linalg.norm(A.dot(A.T) + A.dot(B).dot(B.T.dot(A.T)) - L_2[:,:m+m_1])"
   ]
  },
  {
   "cell_type": "code",
   "execution_count": 18,
   "metadata": {},
   "outputs": [
    {
     "data": {
      "text/plain": [
       "array([[-0.021,  0.   ,  0.002, ...,  0.002,  0.104,  0.133],\n",
       "       [-0.013, -0.005, -0.012, ...,  0.011, -0.009,  0.034],\n",
       "       [ 0.006,  0.002,  0.007, ...,  0.006,  0.015,  0.01 ],\n",
       "       ..., \n",
       "       [ 0.014, -0.019, -0.029, ..., -0.015,  0.006,  0.001],\n",
       "       [-0.04 ,  0.017, -0.011, ..., -0.008,  0.025, -0.016],\n",
       "       [-0.034, -0.052,  0.037, ...,  0.004,  0.011,  0.003]])"
      ]
     },
     "execution_count": 18,
     "metadata": {},
     "output_type": "execute_result"
    }
   ],
   "source": [
    "L_2"
   ]
  },
  {
   "cell_type": "code",
   "execution_count": 19,
   "metadata": {},
   "outputs": [],
   "source": [
    "U,D,V = np.linalg.svd(A.dot(A.T), full_matrices=True)"
   ]
  },
  {
   "cell_type": "code",
   "execution_count": 20,
   "metadata": {},
   "outputs": [],
   "source": [
    "A_big = np.array([np.reshape(tensor2(A[:, i], A[:,i]),d**2) for i in range(m)]).T\n",
    "Ab_big = np.array([np.reshape(tensor2(A.dot(B)[:, i], A.dot(B)[:,i]),d**2) for i in range(m_1)]).T"
   ]
  },
  {
   "cell_type": "code",
   "execution_count": 21,
   "metadata": {},
   "outputs": [],
   "source": [
    "A_new = np.zeros((d**2, m+m_1))"
   ]
  },
  {
   "cell_type": "code",
   "execution_count": 22,
   "metadata": {},
   "outputs": [],
   "source": [
    "A_new[:, :m] = A_big\n",
    "A_new[:,m:m+m_1] = Ab_big\n",
    "#A_new = np.random.random((d**2,d**2))"
   ]
  },
  {
   "cell_type": "code",
   "execution_count": 23,
   "metadata": {},
   "outputs": [
    {
     "data": {
      "text/plain": [
       "6.3245553203367777"
      ]
     },
     "execution_count": 23,
     "metadata": {},
     "output_type": "execute_result"
    }
   ],
   "source": [
    "np.linalg.norm(A_new[:,:m].dot(A_new[:, :m].T))"
   ]
  },
  {
   "cell_type": "code",
   "execution_count": 24,
   "metadata": {},
   "outputs": [
    {
     "data": {
      "text/plain": [
       "5.3277143952710917"
      ]
     },
     "execution_count": 24,
     "metadata": {},
     "output_type": "execute_result"
    }
   ],
   "source": [
    "np.linalg.norm(A_new[:,:m+m_1].dot(A_new[:, :m+m_1].T) - L_2[:,:m+m_1].dot(L_2[:,:m+m_1].T))"
   ]
  },
  {
   "cell_type": "code",
   "execution_count": 25,
   "metadata": {},
   "outputs": [
    {
     "data": {
      "text/plain": [
       "(3600, 60)"
      ]
     },
     "execution_count": 25,
     "metadata": {},
     "output_type": "execute_result"
    }
   ],
   "source": [
    "A_new.shape"
   ]
  },
  {
   "cell_type": "code",
   "execution_count": 32,
   "metadata": {},
   "outputs": [
    {
     "data": {
      "text/plain": [
       "1.4290259832469256"
      ]
     },
     "execution_count": 32,
     "metadata": {},
     "output_type": "execute_result"
    }
   ],
   "source": [
    "np.linalg.norm(L_2[:,:m+m_1].dot(L_2[:,:m+m_1].T).dot(A_big[:,:m]) - A_big[:,])"
   ]
  },
  {
   "cell_type": "code",
   "execution_count": 27,
   "metadata": {},
   "outputs": [
    {
     "data": {
      "text/plain": [
       "(3600, 3600)"
      ]
     },
     "execution_count": 27,
     "metadata": {},
     "output_type": "execute_result"
    }
   ],
   "source": [
    "L_2[:,:m+m_1].dot(L_2[:,:m+m_1].T).shape"
   ]
  },
  {
   "cell_type": "code",
   "execution_count": 28,
   "metadata": {},
   "outputs": [
    {
     "data": {
      "text/plain": [
       "0.99468459849533364"
      ]
     },
     "execution_count": 28,
     "metadata": {},
     "output_type": "execute_result"
    }
   ],
   "source": [
    "np.dot(L_2[:,:m+m_1].dot(L_2[:,:m+m_1].T).dot(A_big[:,0]).T, A_big[:,0])"
   ]
  },
  {
   "cell_type": "code",
   "execution_count": 29,
   "metadata": {},
   "outputs": [
    {
     "data": {
      "text/plain": [
       "array([[-0.198,  0.207,  0.239,  0.007, -0.188,  0.001, -0.018,  0.19 ,\n",
       "         0.253,  0.007,  0.045, -0.084, -0.153, -0.032, -0.126,  0.065,\n",
       "         0.189, -0.135,  0.159, -0.067],\n",
       "       [-0.227, -0.033,  0.26 , -0.082,  0.077,  0.035, -0.077,  0.034,\n",
       "        -0.294, -0.071,  0.063, -0.034, -0.028,  0.129, -0.052,  0.043,\n",
       "         0.11 ,  0.068, -0.39 ,  0.043],\n",
       "       [-0.163, -0.085,  0.078,  0.208, -0.037,  0.052,  0.065,  0.142,\n",
       "        -0.241,  0.013,  0.217, -0.023, -0.091, -0.139, -0.195, -0.04 ,\n",
       "        -0.209, -0.248,  0.256, -0.336],\n",
       "       [-0.239, -0.025, -0.011, -0.12 , -0.182,  0.112, -0.141, -0.164,\n",
       "        -0.052,  0.145, -0.275,  0.091, -0.044,  0.153, -0.136, -0.039,\n",
       "         0.169,  0.046, -0.047, -0.08 ],\n",
       "       [ 0.052,  0.268, -0.042,  0.08 ,  0.102, -0.062,  0.232,  0.022,\n",
       "        -0.197,  0.179,  0.219,  0.111,  0.016,  0.203, -0.071,  0.161,\n",
       "         0.294, -0.087,  0.029,  0.139],\n",
       "       [-0.125, -0.249,  0.008,  0.36 ,  0.187,  0.126, -0.147, -0.033,\n",
       "        -0.083,  0.101, -0.332, -0.056,  0.11 ,  0.179, -0.048, -0.142,\n",
       "         0.131,  0.05 , -0.039,  0.045],\n",
       "       [-0.031, -0.161,  0.127, -0.218, -0.042,  0.349, -0.035, -0.085,\n",
       "        -0.058,  0.122, -0.02 ,  0.047,  0.208, -0.286, -0.138,  0.307,\n",
       "         0.185, -0.137,  0.241,  0.238],\n",
       "       [ 0.113, -0.066,  0.233, -0.05 , -0.047,  0.177, -0.182,  0.116,\n",
       "        -0.072,  0.443, -0.018,  0.019,  0.026, -0.07 ,  0.112, -0.263,\n",
       "        -0.372, -0.114,  0.002, -0.001],\n",
       "       [-0.205,  0.111,  0.299, -0.173,  0.037,  0.079,  0.099, -0.107,\n",
       "        -0.201, -0.132, -0.086, -0.031,  0.164,  0.064,  0.323,  0.01 ,\n",
       "        -0.159,  0.334,  0.171, -0.138],\n",
       "       [-0.059,  0.104, -0.416,  0.05 , -0.123,  0.282, -0.084, -0.042,\n",
       "        -0.01 ,  0.091,  0.05 , -0.314, -0.128,  0.131,  0.31 ,  0.167,\n",
       "        -0.092, -0.047,  0.167, -0.113],\n",
       "       [ 0.142, -0.147, -0.287, -0.251, -0.207,  0.1  ,  0.041, -0.059,\n",
       "         0.016, -0.182,  0.034,  0.097, -0.081, -0.051, -0.288, -0.277,\n",
       "        -0.119,  0.114, -0.016, -0.011],\n",
       "       [-0.045, -0.271, -0.178, -0.002,  0.232,  0.011, -0.047, -0.04 ,\n",
       "        -0.287, -0.123, -0.022, -0.363, -0.192, -0.015, -0.092,  0.01 ,\n",
       "         0.074, -0.398,  0.017, -0.04 ],\n",
       "       [-0.035, -0.168,  0.042, -0.192, -0.01 , -0.138,  0.209, -0.037,\n",
       "         0.225, -0.24 ,  0.023, -0.228,  0.349,  0.035, -0.129,  0.075,\n",
       "        -0.018, -0.262, -0.131,  0.044],\n",
       "       [-0.087,  0.119,  0.057, -0.224,  0.135,  0.211,  0.211, -0.363,\n",
       "         0.164, -0.017,  0.112, -0.011, -0.042, -0.027, -0.128,  0.047,\n",
       "         0.074,  0.063,  0.162, -0.295],\n",
       "       [ 0.029, -0.122,  0.083, -0.195, -0.255,  0.09 ,  0.098,  0.019,\n",
       "        -0.094, -0.129, -0.115, -0.079, -0.131,  0.191,  0.337,  0.199,\n",
       "        -0.037, -0.02 ,  0.089,  0.323],\n",
       "       [ 0.118,  0.178, -0.072,  0.224, -0.153, -0.059,  0.082, -0.219,\n",
       "         0.032, -0.026, -0.207, -0.198,  0.133,  0.07 , -0.248,  0.196,\n",
       "        -0.307,  0.036,  0.088,  0.17 ],\n",
       "       [-0.06 , -0.028,  0.025,  0.073, -0.3  , -0.242, -0.1  ,  0.11 ,\n",
       "        -0.101,  0.089, -0.031, -0.048,  0.053, -0.05 , -0.261,  0.202,\n",
       "        -0.18 ,  0.112, -0.021,  0.065],\n",
       "       [-0.119,  0.05 , -0.064, -0.062,  0.245,  0.2  ,  0.128, -0.005,\n",
       "         0.168, -0.135, -0.069,  0.311, -0.19 , -0.02 , -0.127,  0.008,\n",
       "        -0.197, -0.074, -0.109,  0.08 ],\n",
       "       [-0.203, -0.026, -0.024, -0.02 ,  0.237, -0.022, -0.034, -0.099,\n",
       "        -0.108, -0.158, -0.069, -0.294,  0.203, -0.426,  0.003, -0.115,\n",
       "        -0.153,  0.202,  0.021,  0.057],\n",
       "       [-0.141, -0.061, -0.029,  0.328, -0.198,  0.267, -0.151, -0.075,\n",
       "         0.128, -0.304, -0.151,  0.152,  0.025, -0.094,  0.034,  0.026,\n",
       "         0.259, -0.033,  0.094, -0.091],\n",
       "       [-0.029,  0.037,  0.041,  0.098,  0.01 ,  0.139, -0.089,  0.064,\n",
       "        -0.126, -0.065,  0.37 ,  0.231,  0.385, -0.003, -0.038, -0.026,\n",
       "        -0.103, -0.126,  0.173,  0.107],\n",
       "       [ 0.173, -0.068, -0.09 , -0.034, -0.062,  0.256,  0.003,  0.082,\n",
       "        -0.216, -0.136, -0.085,  0.13 , -0.129, -0.083, -0.021,  0.311,\n",
       "        -0.231,  0.069, -0.122, -0.003],\n",
       "       [ 0.413, -0.09 ,  0.116, -0.081,  0.043,  0.118, -0.045,  0.04 ,\n",
       "        -0.009, -0.07 , -0.192, -0.074,  0.041,  0.182, -0.205, -0.06 ,\n",
       "         0.097, -0.037, -0.009, -0.009],\n",
       "       [-0.069,  0.154,  0.005, -0.   , -0.416,  0.143,  0.159, -0.006,\n",
       "        -0.021,  0.058, -0.114, -0.036,  0.23 , -0.162,  0.093, -0.298,\n",
       "         0.065, -0.25 , -0.378, -0.104],\n",
       "       [-0.207, -0.22 , -0.072, -0.006, -0.033, -0.11 , -0.021, -0.204,\n",
       "        -0.211, -0.111,  0.078,  0.416, -0.103,  0.076,  0.068, -0.125,\n",
       "        -0.034, -0.133,  0.07 ,  0.265],\n",
       "       [-0.054,  0.021, -0.065, -0.209, -0.129, -0.419, -0.108, -0.384,\n",
       "        -0.23 ,  0.205, -0.18 ,  0.109,  0.103, -0.038, -0.026,  0.137,\n",
       "         0.03 , -0.187,  0.111, -0.151],\n",
       "       [-0.127,  0.028, -0.232,  0.204,  0.048,  0.021,  0.308, -0.251,\n",
       "        -0.066,  0.181,  0.06 ,  0.036, -0.022, -0.184,  0.128,  0.053,\n",
       "         0.024,  0.053, -0.318, -0.026],\n",
       "       [-0.376,  0.236, -0.251, -0.236, -0.036, -0.017, -0.075,  0.316,\n",
       "        -0.027, -0.218, -0.076, -0.025,  0.157,  0.259,  0.014, -0.116,\n",
       "        -0.115, -0.182,  0.011,  0.046],\n",
       "       [-0.039,  0.194, -0.028, -0.05 ,  0.191,  0.105, -0.141, -0.241,\n",
       "         0.184,  0.071, -0.108,  0.099,  0.043,  0.075, -0.129, -0.136,\n",
       "        -0.202, -0.068,  0.024,  0.198],\n",
       "       [-0.159, -0.328,  0.188,  0.084,  0.078, -0.053,  0.388,  0.079,\n",
       "         0.197,  0.067, -0.035,  0.009, -0.003,  0.117,  0.077,  0.175,\n",
       "        -0.211, -0.117, -0.115,  0.035],\n",
       "       [-0.023,  0.331,  0.15 , -0.03 , -0.014, -0.005, -0.012, -0.036,\n",
       "        -0.168, -0.126, -0.091,  0.032, -0.379, -0.12 , -0.141,  0.1  ,\n",
       "        -0.18 , -0.139, -0.182, -0.018],\n",
       "       [ 0.043,  0.325,  0.119,  0.009,  0.203,  0.195,  0.097, -0.017,\n",
       "        -0.121,  0.129, -0.167, -0.167,  0.005, -0.008, -0.018, -0.09 ,\n",
       "         0.059, -0.238,  0.012,  0.284],\n",
       "       [ 0.199,  0.038,  0.   ,  0.02 , -0.054,  0.041, -0.04 , -0.301,\n",
       "        -0.122, -0.125,  0.376, -0.154,  0.064,  0.282,  0.044, -0.224,\n",
       "        -0.025, -0.016, -0.031,  0.051],\n",
       "       [ 0.084, -0.097,  0.229,  0.068, -0.245,  0.109,  0.407, -0.124,\n",
       "        -0.17 , -0.073, -0.061, -0.05 , -0.133,  0.097, -0.074, -0.256,\n",
       "         0.018,  0.002,  0.141, -0.065],\n",
       "       [ 0.232,  0.08 ,  0.071, -0.171,  0.066, -0.026, -0.135,  0.083,\n",
       "        -0.179, -0.216,  0.016,  0.008,  0.013, -0.272,  0.105,  0.035,\n",
       "         0.203,  0.002, -0.166, -0.073],\n",
       "       [-0.023, -0.198,  0.023, -0.291,  0.013,  0.023, -0.162, -0.105,\n",
       "         0.246,  0.232,  0.117, -0.057, -0.176, -0.037,  0.16 , -0.008,\n",
       "        -0.024, -0.192, -0.094, -0.057],\n",
       "       [ 0.181,  0.095,  0.133,  0.187,  0.033, -0.243, -0.042, -0.135,\n",
       "         0.121, -0.265, -0.189,  0.127, -0.066, -0.171,  0.349, -0.091,\n",
       "        -0.055, -0.327,  0.176,  0.026],\n",
       "       [ 0.019, -0.009, -0.224, -0.017, -0.137,  0.026,  0.21 ,  0.117,\n",
       "        -0.017,  0.12 ,  0.044,  0.003,  0.002, -0.322,  0.075, -0.094,\n",
       "         0.103,  0.041,  0.035,  0.338],\n",
       "       [ 0.184,  0.02 , -0.049,  0.072,  0.023,  0.177, -0.049, -0.047,\n",
       "        -0.014, -0.025, -0.017,  0.194,  0.319,  0.112,  0.106,  0.291,\n",
       "        -0.116, -0.197, -0.245, -0.306],\n",
       "       [-0.129, -0.003,  0.215,  0.18 , -0.192,  0.063, -0.311, -0.279,\n",
       "         0.158, -0.109,  0.332, -0.181, -0.118, -0.04 , -0.035,  0.098,\n",
       "        -0.053,  0.011, -0.232,  0.234]])"
      ]
     },
     "execution_count": 29,
     "metadata": {},
     "output_type": "execute_result"
    }
   ],
   "source": [
    "B"
   ]
  },
  {
   "cell_type": "code",
   "execution_count": null,
   "metadata": {
    "collapsed": true
   },
   "outputs": [],
   "source": []
  }
 ],
 "metadata": {
  "kernelspec": {
   "display_name": "Python 3",
   "language": "python",
   "name": "python3"
  },
  "language_info": {
   "codemirror_mode": {
    "name": "ipython",
    "version": 3
   },
   "file_extension": ".py",
   "mimetype": "text/x-python",
   "name": "python",
   "nbconvert_exporter": "python",
   "pygments_lexer": "ipython3",
   "version": "3.5.2"
  }
 },
 "nbformat": 4,
 "nbformat_minor": 2
}
